{
 "cells": [
  {
   "cell_type": "code",
   "execution_count": 2,
   "metadata": {},
   "outputs": [],
   "source": [
    "import pandas as pd"
   ]
  },
  {
   "cell_type": "code",
   "execution_count": 5,
   "metadata": {},
   "outputs": [
    {
     "data": {
      "text/html": [
       "<div>\n",
       "<style scoped>\n",
       "    .dataframe tbody tr th:only-of-type {\n",
       "        vertical-align: middle;\n",
       "    }\n",
       "\n",
       "    .dataframe tbody tr th {\n",
       "        vertical-align: top;\n",
       "    }\n",
       "\n",
       "    .dataframe thead th {\n",
       "        text-align: right;\n",
       "    }\n",
       "</style>\n",
       "<table border=\"1\" class=\"dataframe\">\n",
       "  <thead>\n",
       "    <tr style=\"text-align: right;\">\n",
       "      <th></th>\n",
       "      <th>state</th>\n",
       "      <th>AsianKilled</th>\n",
       "      <th>BlackKilled</th>\n",
       "      <th>WhiteKilled</th>\n",
       "      <th>HispanicKilled</th>\n",
       "      <th>NativeAmericanKilled</th>\n",
       "      <th>OthersKilled</th>\n",
       "      <th>Per_black_killed</th>\n",
       "      <th>Median Income</th>\n",
       "      <th>percent_completed_hs</th>\n",
       "      <th>poverty_rate</th>\n",
       "      <th>share_white</th>\n",
       "      <th>share_black</th>\n",
       "      <th>share_native_american</th>\n",
       "      <th>share_asian</th>\n",
       "      <th>share_hispanic</th>\n",
       "    </tr>\n",
       "  </thead>\n",
       "  <tbody>\n",
       "    <tr>\n",
       "      <th>0</th>\n",
       "      <td>DE</td>\n",
       "      <td>0</td>\n",
       "      <td>8381</td>\n",
       "      <td>4618</td>\n",
       "      <td>0</td>\n",
       "      <td>0</td>\n",
       "      <td>0</td>\n",
       "      <td>0.64</td>\n",
       "      <td>61792.41</td>\n",
       "      <td>88.52</td>\n",
       "      <td>12.56</td>\n",
       "      <td>76.25</td>\n",
       "      <td>15.39</td>\n",
       "      <td>0.52</td>\n",
       "      <td>2.00</td>\n",
       "      <td>7.42</td>\n",
       "    </tr>\n",
       "    <tr>\n",
       "      <th>1</th>\n",
       "      <td>AK</td>\n",
       "      <td>0</td>\n",
       "      <td>2363</td>\n",
       "      <td>11500</td>\n",
       "      <td>0</td>\n",
       "      <td>8058</td>\n",
       "      <td>1829</td>\n",
       "      <td>0.10</td>\n",
       "      <td>52099.59</td>\n",
       "      <td>84.63</td>\n",
       "      <td>19.85</td>\n",
       "      <td>45.65</td>\n",
       "      <td>0.57</td>\n",
       "      <td>45.86</td>\n",
       "      <td>1.39</td>\n",
       "      <td>2.15</td>\n",
       "    </tr>\n",
       "    <tr>\n",
       "      <th>2</th>\n",
       "      <td>NH</td>\n",
       "      <td>0</td>\n",
       "      <td>0</td>\n",
       "      <td>10391</td>\n",
       "      <td>0</td>\n",
       "      <td>0</td>\n",
       "      <td>0</td>\n",
       "      <td>0.00</td>\n",
       "      <td>54026.32</td>\n",
       "      <td>90.71</td>\n",
       "      <td>12.66</td>\n",
       "      <td>95.68</td>\n",
       "      <td>0.72</td>\n",
       "      <td>0.29</td>\n",
       "      <td>1.34</td>\n",
       "      <td>1.74</td>\n",
       "    </tr>\n",
       "    <tr>\n",
       "      <th>3</th>\n",
       "      <td>MI</td>\n",
       "      <td>0</td>\n",
       "      <td>22510</td>\n",
       "      <td>25274</td>\n",
       "      <td>1705</td>\n",
       "      <td>0</td>\n",
       "      <td>2791</td>\n",
       "      <td>0.43</td>\n",
       "      <td>44685.51</td>\n",
       "      <td>89.21</td>\n",
       "      <td>17.90</td>\n",
       "      <td>90.67</td>\n",
       "      <td>4.12</td>\n",
       "      <td>1.08</td>\n",
       "      <td>0.95</td>\n",
       "      <td>3.54</td>\n",
       "    </tr>\n",
       "    <tr>\n",
       "      <th>4</th>\n",
       "      <td>WA</td>\n",
       "      <td>4626</td>\n",
       "      <td>19082</td>\n",
       "      <td>40152</td>\n",
       "      <td>10172</td>\n",
       "      <td>5731</td>\n",
       "      <td>24027</td>\n",
       "      <td>0.18</td>\n",
       "      <td>59315.28</td>\n",
       "      <td>88.20</td>\n",
       "      <td>15.02</td>\n",
       "      <td>82.38</td>\n",
       "      <td>1.43</td>\n",
       "      <td>3.75</td>\n",
       "      <td>3.07</td>\n",
       "      <td>10.61</td>\n",
       "    </tr>\n",
       "  </tbody>\n",
       "</table>\n",
       "</div>"
      ],
      "text/plain": [
       "  state  AsianKilled  BlackKilled  WhiteKilled  HispanicKilled  \\\n",
       "0    DE            0         8381         4618               0   \n",
       "1    AK            0         2363        11500               0   \n",
       "2    NH            0            0        10391               0   \n",
       "3    MI            0        22510        25274            1705   \n",
       "4    WA         4626        19082        40152           10172   \n",
       "\n",
       "   NativeAmericanKilled  OthersKilled  Per_black_killed  Median Income  \\\n",
       "0                     0             0              0.64       61792.41   \n",
       "1                  8058          1829              0.10       52099.59   \n",
       "2                     0             0              0.00       54026.32   \n",
       "3                     0          2791              0.43       44685.51   \n",
       "4                  5731         24027              0.18       59315.28   \n",
       "\n",
       "   percent_completed_hs  poverty_rate  share_white  share_black  \\\n",
       "0                 88.52         12.56        76.25        15.39   \n",
       "1                 84.63         19.85        45.65         0.57   \n",
       "2                 90.71         12.66        95.68         0.72   \n",
       "3                 89.21         17.90        90.67         4.12   \n",
       "4                 88.20         15.02        82.38         1.43   \n",
       "\n",
       "   share_native_american  share_asian  share_hispanic  \n",
       "0                   0.52         2.00            7.42  \n",
       "1                  45.86         1.39            2.15  \n",
       "2                   0.29         1.34            1.74  \n",
       "3                   1.08         0.95            3.54  \n",
       "4                   3.75         3.07           10.61  "
      ]
     },
     "execution_count": 5,
     "metadata": {},
     "output_type": "execute_result"
    }
   ],
   "source": [
    "policeKillingsDF = pd.read_csv(\"Cleaned-Police-Killings-Data.csv\")\n",
    "policeKillingsDF.head()"
   ]
  },
  {
   "cell_type": "code",
   "execution_count": 19,
   "metadata": {},
   "outputs": [
    {
     "name": "stdout",
     "output_type": "stream",
     "text": [
      "P-value for shapiro-wilk test of normality is 2.2896946560990727e-09\n",
      "We reject null hypothesis and the distribution is not normal.\n"
     ]
    }
   ],
   "source": [
    "from scipy.stats import shapiro\n",
    "statvalue, pvalue = shapiro(policeKillingsDF.Per_black_killed - policeKillingsDF.share_black)\n",
    "print(\"P-value for shapiro-wilk test of normality is %s\" % pvalue)\n",
    "if pvalue > 0.05:\n",
    "    print('We fail to reject null hypothesis and the distribution is normal.')\n",
    "else:\n",
    "    print('We reject null hypothesis and the distribution is not normal.')"
   ]
  },
  {
   "cell_type": "code",
   "execution_count": 27,
   "metadata": {},
   "outputs": [
    {
     "name": "stdout",
     "output_type": "stream",
     "text": [
      "P-value for wilcoxon signed-rank test is 0.999999999742848\n",
      "We fail to reject null hypothesis that there is no significant difference between two samples.\n"
     ]
    }
   ],
   "source": [
    "from scipy.stats import wilcoxon\n",
    "statvalue, pvalue = wilcoxon(policeKillingsDF.Per_black_killed, policeKillingsDF.share_black, alternative=\"greater\")\n",
    "print(\"P-value for wilcoxon signed-rank test is %s\" % pvalue)\n",
    "if pvalue > 0.05:\n",
    "    print('We fail to reject null hypothesis that there is no significant difference between two samples.')\n",
    "else:\n",
    "    print('We reject null hypothesis and accept that there is difference between ')"
   ]
  },
  {
   "cell_type": "code",
   "execution_count": 47,
   "metadata": {},
   "outputs": [
    {
     "data": {
      "text/plain": [
       "percent_completed_hs    5.321559e-01\n",
       "Median Income           4.130679e-01\n",
       "poverty_rate            1.829213e-01\n",
       "share_black             4.547569e-07\n",
       "dtype: float64"
      ]
     },
     "execution_count": 47,
     "metadata": {},
     "output_type": "execute_result"
    }
   ],
   "source": [
    "import statsmodels.api as sm\n",
    "X = policeKillingsDF[['Median Income','poverty_rate','share_black','percent_completed_hs']]\n",
    "Y = policeKillingsDF[['Per_black_killed']]\n",
    "model = sm.OLS(Y, X).fit()\n",
    "model.pvalues.sort_values(ascending=False)"
   ]
  },
  {
   "cell_type": "code",
   "execution_count": 51,
   "metadata": {},
   "outputs": [
    {
     "data": {
      "text/plain": [
       "poverty_rate     9.977612e-02\n",
       "Median Income    1.316371e-05\n",
       "share_black      5.218904e-08\n",
       "dtype: float64"
      ]
     },
     "execution_count": 51,
     "metadata": {},
     "output_type": "execute_result"
    }
   ],
   "source": [
    "X = policeKillingsDF[['Median Income','poverty_rate','share_black']]\n",
    "Y = policeKillingsDF[['Per_black_killed']]\n",
    "model = sm.OLS(Y, X).fit()\n",
    "model.pvalues.sort_values(ascending=False)"
   ]
  },
  {
   "cell_type": "code",
   "execution_count": 54,
   "metadata": {},
   "outputs": [
    {
     "name": "stdout",
     "output_type": "stream",
     "text": [
      "Spearman correlation coefficient is -0.13702265426241017\n",
      "P-value for spearman correlation is 0.3376540445137146\n",
      "There is no statistically significant correlation and the two variables are probably independent\n"
     ]
    }
   ],
   "source": [
    "from scipy.stats import spearmanr\n",
    "statvalue, pvalue = spearmanr(policeKillingsDF.Per_black_killed, policeKillingsDF.percent_completed_hs)\n",
    "print(\"Spearman correlation coefficient is %s\" % statvalue)\n",
    "print(\"P-value for spearman correlation is %s\" % pvalue)\n",
    "if pvalue > 0.05:\n",
    "    print('There is no statistically significant correlation and the two variables are probably independent')\n",
    "else:\n",
    "    print('There is some statistically significant correlation between two variables.')"
   ]
  }
 ],
 "metadata": {
  "kernelspec": {
   "display_name": "Python 3",
   "language": "python",
   "name": "python3"
  },
  "language_info": {
   "codemirror_mode": {
    "name": "ipython",
    "version": 3
   },
   "file_extension": ".py",
   "mimetype": "text/x-python",
   "name": "python",
   "nbconvert_exporter": "python",
   "pygments_lexer": "ipython3",
   "version": "3.7.6"
  }
 },
 "nbformat": 4,
 "nbformat_minor": 4
}
