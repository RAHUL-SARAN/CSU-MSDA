{
 "cells": [
  {
   "cell_type": "markdown",
   "metadata": {},
   "source": [
    "# <font color=#415be0><center>Hypothesis Testing on 2020 Presidential Election Poll Data</center></font>\n",
    "###  <font color=#686a73>*Donald trump government in united states have constantly been under public scrutiny since they started in 2016. With multiple allegations from the opposition, this government has managed to remain in the headlines. Using pre-election poll data from 2016 and after 2016 till date, we will try to understand the opinion and sentiments of voters in few red and blue states.*</font>"
   ]
  },
  {
   "cell_type": "markdown",
   "metadata": {},
   "source": [
    "### <font color=#4a4c52>Installing required packages</font>"
   ]
  },
  {
   "cell_type": "code",
   "execution_count": 1,
   "metadata": {},
   "outputs": [],
   "source": [
    "#install.packages(\"readxl\")\n",
    "#install.packages(\"tidyverse\")\n",
    "#install.packages(\"tidyr\")\n",
    "#install.packages(\"dplyr\")\n",
    "#install.packages(\"readr\")\n",
    "#install.packages(\"funModeling\")\n",
    "#install.packages(\"Hmisc\")\n",
    "#install.packages(\"sqldf\")\n",
    "#install.packages(\"reshape2\")\n",
    "#install.packages(\"sm\")"
   ]
  },
  {
   "cell_type": "markdown",
   "metadata": {},
   "source": [
    "### <font color=#4a4c52>Loading installed packages into workspace"
   ]
  },
  {
   "cell_type": "code",
   "execution_count": 42,
   "metadata": {},
   "outputs": [],
   "source": [
    "library(\"readxl\")\n",
    "library(\"tidyverse\")\n",
    "library(\"tidyr\")\n",
    "library(\"dplyr\")\n",
    "library(\"readr\")\n",
    "library(\"funModeling\")\n",
    "library(\"Hmisc\")\n",
    "library(\"sqldf\")\n",
    "library(\"reshape2\")\n",
    "library(\"sm\")"
   ]
  },
  {
   "cell_type": "markdown",
   "metadata": {},
   "source": [
    "## <font color=#304073><u><center>Data preparation & Exploratory data analysis on 2016 election results</center></u></font>"
   ]
  },
  {
   "cell_type": "markdown",
   "metadata": {},
   "source": [
    "#### Dataset source: \n",
    "<a href=\"https://data.world/garyhoov/2016-pres-election-by-county/file/2016 Presidential Election Analysis.xlsx\">County election results 2016</a>"
   ]
  },
  {
   "cell_type": "markdown",
   "metadata": {},
   "source": [
    "### <font color=#4a4c52>*Import dataset into dataframe and select relevant columns*"
   ]
  },
  {
   "cell_type": "code",
   "execution_count": 3,
   "metadata": {},
   "outputs": [
    {
     "data": {
      "text/html": [
       "<ol class=list-inline>\n",
       "\t<li>'State Code'</li>\n",
       "\t<li>'County Name'</li>\n",
       "\t<li>'County Population'</li>\n",
       "\t<li>'Clinton or Trump State'</li>\n",
       "\t<li>'Clinton'</li>\n",
       "\t<li>'Trump'</li>\n",
       "\t<li>'Total'</li>\n",
       "\t<li>'% Clinton'</li>\n",
       "\t<li>'% Trump'</li>\n",
       "\t<li>'Vote Difference C-T'</li>\n",
       "\t<li>'Vote Difference T-C'</li>\n",
       "\t<li>'Percent Difference C-T'</li>\n",
       "\t<li>'Percent Difference T-C'</li>\n",
       "\t<li>'Obama'</li>\n",
       "\t<li>'Romney'</li>\n",
       "\t<li>'2012 Total Votes'</li>\n",
       "\t<li>'% Obama'</li>\n",
       "\t<li>'% Romney'</li>\n",
       "\t<li>'Vote Difference O-R'</li>\n",
       "\t<li>'% Difference O-R'</li>\n",
       "\t<li>'Clinton B(W) Obama'</li>\n",
       "\t<li>'Trump B(W) Romney'</li>\n",
       "\t<li>'Clinton % B(W) Obama'</li>\n",
       "\t<li>'Trump % B(W) Romney'</li>\n",
       "\t<li>'2010 Land Area'</li>\n",
       "\t<li>'Density'</li>\n",
       "\t<li>'Combined FIPS Code'</li>\n",
       "\t<li>'ANSI Code'</li>\n",
       "\t<li>'State FIPS Code'</li>\n",
       "\t<li>'County FIPS Code'</li>\n",
       "\t<li>'CBSA Code'</li>\n",
       "\t<li>'CSA Code'</li>\n",
       "\t<li>'CBSA Title'</li>\n",
       "\t<li>'CBSA Population'</li>\n",
       "\t<li>'Metropolitan/Micropolitan Statistical Area'</li>\n",
       "\t<li>'CSA Title'</li>\n",
       "\t<li>'Metropolitan Division Title'</li>\n",
       "\t<li>'Metropolitan Division Code'</li>\n",
       "\t<li>'Central/Outlying County'</li>\n",
       "</ol>\n"
      ],
      "text/latex": [
       "\\begin{enumerate*}\n",
       "\\item 'State Code'\n",
       "\\item 'County Name'\n",
       "\\item 'County Population'\n",
       "\\item 'Clinton or Trump State'\n",
       "\\item 'Clinton'\n",
       "\\item 'Trump'\n",
       "\\item 'Total'\n",
       "\\item '\\% Clinton'\n",
       "\\item '\\% Trump'\n",
       "\\item 'Vote Difference C-T'\n",
       "\\item 'Vote Difference T-C'\n",
       "\\item 'Percent Difference C-T'\n",
       "\\item 'Percent Difference T-C'\n",
       "\\item 'Obama'\n",
       "\\item 'Romney'\n",
       "\\item '2012 Total Votes'\n",
       "\\item '\\% Obama'\n",
       "\\item '\\% Romney'\n",
       "\\item 'Vote Difference O-R'\n",
       "\\item '\\% Difference O-R'\n",
       "\\item 'Clinton B(W) Obama'\n",
       "\\item 'Trump B(W) Romney'\n",
       "\\item 'Clinton \\% B(W) Obama'\n",
       "\\item 'Trump \\% B(W) Romney'\n",
       "\\item '2010 Land Area'\n",
       "\\item 'Density'\n",
       "\\item 'Combined FIPS Code'\n",
       "\\item 'ANSI Code'\n",
       "\\item 'State FIPS Code'\n",
       "\\item 'County FIPS Code'\n",
       "\\item 'CBSA Code'\n",
       "\\item 'CSA Code'\n",
       "\\item 'CBSA Title'\n",
       "\\item 'CBSA Population'\n",
       "\\item 'Metropolitan/Micropolitan Statistical Area'\n",
       "\\item 'CSA Title'\n",
       "\\item 'Metropolitan Division Title'\n",
       "\\item 'Metropolitan Division Code'\n",
       "\\item 'Central/Outlying County'\n",
       "\\end{enumerate*}\n"
      ],
      "text/markdown": [
       "1. 'State Code'\n",
       "2. 'County Name'\n",
       "3. 'County Population'\n",
       "4. 'Clinton or Trump State'\n",
       "5. 'Clinton'\n",
       "6. 'Trump'\n",
       "7. 'Total'\n",
       "8. '% Clinton'\n",
       "9. '% Trump'\n",
       "10. 'Vote Difference C-T'\n",
       "11. 'Vote Difference T-C'\n",
       "12. 'Percent Difference C-T'\n",
       "13. 'Percent Difference T-C'\n",
       "14. 'Obama'\n",
       "15. 'Romney'\n",
       "16. '2012 Total Votes'\n",
       "17. '% Obama'\n",
       "18. '% Romney'\n",
       "19. 'Vote Difference O-R'\n",
       "20. '% Difference O-R'\n",
       "21. 'Clinton B(W) Obama'\n",
       "22. 'Trump B(W) Romney'\n",
       "23. 'Clinton % B(W) Obama'\n",
       "24. 'Trump % B(W) Romney'\n",
       "25. '2010 Land Area'\n",
       "26. 'Density'\n",
       "27. 'Combined FIPS Code'\n",
       "28. 'ANSI Code'\n",
       "29. 'State FIPS Code'\n",
       "30. 'County FIPS Code'\n",
       "31. 'CBSA Code'\n",
       "32. 'CSA Code'\n",
       "33. 'CBSA Title'\n",
       "34. 'CBSA Population'\n",
       "35. 'Metropolitan/Micropolitan Statistical Area'\n",
       "36. 'CSA Title'\n",
       "37. 'Metropolitan Division Title'\n",
       "38. 'Metropolitan Division Code'\n",
       "39. 'Central/Outlying County'\n",
       "\n",
       "\n"
      ],
      "text/plain": [
       " [1] \"State Code\"                                \n",
       " [2] \"County Name\"                               \n",
       " [3] \"County Population\"                         \n",
       " [4] \"Clinton or Trump State\"                    \n",
       " [5] \"Clinton\"                                   \n",
       " [6] \"Trump\"                                     \n",
       " [7] \"Total\"                                     \n",
       " [8] \"% Clinton\"                                 \n",
       " [9] \"% Trump\"                                   \n",
       "[10] \"Vote Difference C-T\"                       \n",
       "[11] \"Vote Difference T-C\"                       \n",
       "[12] \"Percent Difference C-T\"                    \n",
       "[13] \"Percent Difference T-C\"                    \n",
       "[14] \"Obama\"                                     \n",
       "[15] \"Romney\"                                    \n",
       "[16] \"2012 Total Votes\"                          \n",
       "[17] \"% Obama\"                                   \n",
       "[18] \"% Romney\"                                  \n",
       "[19] \"Vote Difference O-R\"                       \n",
       "[20] \"% Difference O-R\"                          \n",
       "[21] \"Clinton B(W) Obama\"                        \n",
       "[22] \"Trump B(W) Romney\"                         \n",
       "[23] \"Clinton % B(W) Obama\"                      \n",
       "[24] \"Trump % B(W) Romney\"                       \n",
       "[25] \"2010 Land Area\"                            \n",
       "[26] \"Density\"                                   \n",
       "[27] \"Combined FIPS Code\"                        \n",
       "[28] \"ANSI Code\"                                 \n",
       "[29] \"State FIPS Code\"                           \n",
       "[30] \"County FIPS Code\"                          \n",
       "[31] \"CBSA Code\"                                 \n",
       "[32] \"CSA Code\"                                  \n",
       "[33] \"CBSA Title\"                                \n",
       "[34] \"CBSA Population\"                           \n",
       "[35] \"Metropolitan/Micropolitan Statistical Area\"\n",
       "[36] \"CSA Title\"                                 \n",
       "[37] \"Metropolitan Division Title\"               \n",
       "[38] \"Metropolitan Division Code\"                \n",
       "[39] \"Central/Outlying County\"                   "
      ]
     },
     "metadata": {},
     "output_type": "display_data"
    },
    {
     "data": {
      "text/html": [
       "<table>\n",
       "<thead><tr><th scope=col>state_code</th><th scope=col>county_name</th><th scope=col>clinton_trump_state</th><th scope=col>clinton_votes</th><th scope=col>trump_votes</th><th scope=col>total_votes</th><th scope=col>cinton_percent</th><th scope=col>trump_percent</th></tr></thead>\n",
       "<tbody>\n",
       "\t<tr><td>AL            </td><td>Autauga County</td><td>Trump         </td><td> 5908         </td><td>18110         </td><td>24661         </td><td>0.23956855    </td><td>0.7343579     </td></tr>\n",
       "\t<tr><td>AL            </td><td>Baldwin County</td><td>Trump         </td><td>18409         </td><td>72780         </td><td>94090         </td><td>0.19565310    </td><td>0.7735147     </td></tr>\n",
       "\t<tr><td>AL            </td><td>Barbour County</td><td>Trump         </td><td> 4848         </td><td> 5431         </td><td>10390         </td><td>0.46660250    </td><td>0.5227141     </td></tr>\n",
       "\t<tr><td>AL            </td><td>Bibb County   </td><td>Trump         </td><td> 1874         </td><td> 6733         </td><td> 8748         </td><td>0.21422039    </td><td>0.7696616     </td></tr>\n",
       "\t<tr><td>AL            </td><td>Blount County </td><td>Trump         </td><td> 2150         </td><td>22808         </td><td>25384         </td><td>0.08469902    </td><td>0.8985188     </td></tr>\n",
       "\t<tr><td>AL            </td><td>Bullock County</td><td>Trump         </td><td> 3530         </td><td> 1139         </td><td> 4701         </td><td>0.75090406    </td><td>0.2422889     </td></tr>\n",
       "</tbody>\n",
       "</table>\n"
      ],
      "text/latex": [
       "\\begin{tabular}{r|llllllll}\n",
       " state\\_code & county\\_name & clinton\\_trump\\_state & clinton\\_votes & trump\\_votes & total\\_votes & cinton\\_percent & trump\\_percent\\\\\n",
       "\\hline\n",
       "\t AL             & Autauga County & Trump          &  5908          & 18110          & 24661          & 0.23956855     & 0.7343579     \\\\\n",
       "\t AL             & Baldwin County & Trump          & 18409          & 72780          & 94090          & 0.19565310     & 0.7735147     \\\\\n",
       "\t AL             & Barbour County & Trump          &  4848          &  5431          & 10390          & 0.46660250     & 0.5227141     \\\\\n",
       "\t AL             & Bibb County    & Trump          &  1874          &  6733          &  8748          & 0.21422039     & 0.7696616     \\\\\n",
       "\t AL             & Blount County  & Trump          &  2150          & 22808          & 25384          & 0.08469902     & 0.8985188     \\\\\n",
       "\t AL             & Bullock County & Trump          &  3530          &  1139          &  4701          & 0.75090406     & 0.2422889     \\\\\n",
       "\\end{tabular}\n"
      ],
      "text/markdown": [
       "\n",
       "| state_code | county_name | clinton_trump_state | clinton_votes | trump_votes | total_votes | cinton_percent | trump_percent |\n",
       "|---|---|---|---|---|---|---|---|\n",
       "| AL             | Autauga County | Trump          |  5908          | 18110          | 24661          | 0.23956855     | 0.7343579      |\n",
       "| AL             | Baldwin County | Trump          | 18409          | 72780          | 94090          | 0.19565310     | 0.7735147      |\n",
       "| AL             | Barbour County | Trump          |  4848          |  5431          | 10390          | 0.46660250     | 0.5227141      |\n",
       "| AL             | Bibb County    | Trump          |  1874          |  6733          |  8748          | 0.21422039     | 0.7696616      |\n",
       "| AL             | Blount County  | Trump          |  2150          | 22808          | 25384          | 0.08469902     | 0.8985188      |\n",
       "| AL             | Bullock County | Trump          |  3530          |  1139          |  4701          | 0.75090406     | 0.2422889      |\n",
       "\n"
      ],
      "text/plain": [
       "  state_code county_name    clinton_trump_state clinton_votes trump_votes\n",
       "1 AL         Autauga County Trump                5908         18110      \n",
       "2 AL         Baldwin County Trump               18409         72780      \n",
       "3 AL         Barbour County Trump                4848          5431      \n",
       "4 AL         Bibb County    Trump                1874          6733      \n",
       "5 AL         Blount County  Trump                2150         22808      \n",
       "6 AL         Bullock County Trump                3530          1139      \n",
       "  total_votes cinton_percent trump_percent\n",
       "1 24661       0.23956855     0.7343579    \n",
       "2 94090       0.19565310     0.7735147    \n",
       "3 10390       0.46660250     0.5227141    \n",
       "4  8748       0.21422039     0.7696616    \n",
       "5 25384       0.08469902     0.8985188    \n",
       "6  4701       0.75090406     0.2422889    "
      ]
     },
     "metadata": {},
     "output_type": "display_data"
    }
   ],
   "source": [
    "# Load 2016 elelction results into dataframe\n",
    "actual_result_2016 <- read_excel(\"2016 Presidential Election Analysis.xlsx\", sheet=\"Raw County Election Data\")\n",
    "# Check column names in dataframe\n",
    "names(actual_result_2016)\n",
    "# Select required column data into another dataframe\n",
    "vote_share_2016 <- actual_result_2016[c(\"State Code\",\n",
    "                                        \"County Name\",\n",
    "                                        \"Clinton or Trump State\",\n",
    "                                        \"Clinton\",\"Trump\",\n",
    "                                        \"Total\",\"% Clinton\",\n",
    "                                        \"% Trump\")]\n",
    "names(vote_share_2016)  <- c(\"state_code\",\"county_name\",\"clinton_trump_state\",\n",
    "                             \"clinton_votes\",\"trump_votes\",\"total_votes\",\n",
    "                            \"cinton_percent\",\"trump_percent\")\n",
    "# Browse a few records\n",
    "head(vote_share_2016)"
   ]
  },
  {
   "cell_type": "markdown",
   "metadata": {},
   "source": [
    "### <font color=#4a4c52>*Review selected columns, datatypes and any missing values*"
   ]
  },
  {
   "cell_type": "code",
   "execution_count": 4,
   "metadata": {},
   "outputs": [
    {
     "name": "stdout",
     "output_type": "stream",
     "text": [
      "             variable q_zeros p_zeros q_na p_na q_inf p_inf      type unique\n",
      "1          state_code       0       0    0    0     0     0 character     51\n",
      "2         county_name       0       0    0    0     0     0 character   1848\n",
      "3 clinton_trump_state       0       0    0    0     0     0 character      2\n",
      "4       clinton_votes       0       0    0    0     0     0   numeric   2687\n",
      "5         trump_votes       0       0    0    0     0     0   numeric   2903\n",
      "6         total_votes       0       0    0    0     0     0   numeric   2963\n",
      "7      cinton_percent       0       0    0    0     0     0   numeric   3112\n",
      "8       trump_percent       0       0    0    0     0     0   numeric   3112\n"
     ]
    }
   ],
   "source": [
    "df_status(vote_share_2016)"
   ]
  },
  {
   "cell_type": "markdown",
   "metadata": {},
   "source": [
    "### <font color=#4a4c52>*Visually examining any data discrepencies, no missing data was found*"
   ]
  },
  {
   "cell_type": "code",
   "execution_count": 5,
   "metadata": {},
   "outputs": [
    {
     "data": {
      "text/plain": [
       "vote_share_2016 \n",
       "\n",
       " 8  Variables      3113  Observations\n",
       "--------------------------------------------------------------------------------\n",
       "state_code \n",
       "       n  missing distinct \n",
       "    3113        0       51 \n",
       "\n",
       "lowest : AK AL AR AZ CA, highest: VT WA WI WV WY\n",
       "--------------------------------------------------------------------------------\n",
       "county_name \n",
       "       n  missing distinct \n",
       "    3113        0     1848 \n",
       "\n",
       "lowest : Abbeville County Acadia Parish    Accomack County  Ada County       Adair County    \n",
       "highest: Yuba County      Yuma County      Zapata County    Zavala County    Ziebach County  \n",
       "--------------------------------------------------------------------------------\n",
       "clinton_trump_state \n",
       "       n  missing distinct \n",
       "    3113        0        2 \n",
       "                          \n",
       "Value      Clinton   Trump\n",
       "Frequency      751    2362\n",
       "Proportion   0.241   0.759\n",
       "--------------------------------------------------------------------------------\n",
       "clinton_votes \n",
       "       n  missing distinct     Info     Mean      Gmd      .05      .10 \n",
       "    3113        0     2687        1    20042    33018    217.8    426.2 \n",
       "     .25      .50      .75      .90      .95 \n",
       "  1166.0   3155.0   9608.0  37602.8  92695.6 \n",
       "\n",
       "lowest :       4       5      14      16      18\n",
       "highest:  623006  657149  706471 1528582 1893770\n",
       "--------------------------------------------------------------------------------\n",
       "trump_votes \n",
       "       n  missing distinct     Info     Mean      Gmd      .05      .10 \n",
       "    3113        0     2903        1    19636    26554    904.6   1453.0 \n",
       "     .25      .50      .75      .90      .95 \n",
       "  3206.0   7169.0  17446.0  47526.0  82301.8 \n",
       "\n",
       "lowest :     57     84    149    171    203, highest: 440213 472669 544960 590465 620285\n",
       "--------------------------------------------------------------------------------\n",
       "total_votes \n",
       "       n  missing distinct     Info     Mean      Gmd      .05      .10 \n",
       "    3113        0     2963        1    41743    62087     1339     2229 \n",
       "     .25      .50      .75      .90      .95 \n",
       "    4822    10948    28828    90918   185331 \n",
       "\n",
       "lowest :      64     159     186     263     283\n",
       "highest: 1092116 1201934 1302887 2055215 2652072\n",
       "--------------------------------------------------------------------------------\n",
       "cinton_percent \n",
       "       n  missing distinct     Info     Mean      Gmd      .05      .10 \n",
       "    3113        0     3112        1   0.3171   0.1683   0.1220   0.1503 \n",
       "     .25      .50      .75      .90      .95 \n",
       "  0.2048   0.2849   0.3995   0.5366   0.6229 \n",
       "\n",
       "lowest : 0.03144654 0.03636364 0.04615385 0.04755245 0.04895105\n",
       "highest: 0.87167550 0.87519137 0.88726986 0.89329262 0.92846592\n",
       "--------------------------------------------------------------------------------\n",
       "trump_percent \n",
       "       n  missing distinct     Info     Mean      Gmd      .05      .10 \n",
       "    3113        0     3112        1   0.6361   0.1729   0.3262   0.4139 \n",
       "     .25      .50      .75      .90      .95 \n",
       "  0.5495   0.6674   0.7514   0.8091   0.8405 \n",
       "\n",
       "lowest : 0.04122067 0.08321823 0.08342566 0.09442505 0.09592679\n",
       "highest: 0.92096774 0.92352941 0.93147208 0.93710692 0.95272727\n",
       "--------------------------------------------------------------------------------"
      ]
     },
     "metadata": {},
     "output_type": "display_data"
    }
   ],
   "source": [
    "describe(vote_share_2016)"
   ]
  },
  {
   "cell_type": "markdown",
   "metadata": {},
   "source": [
    "### <font color=#4a4c52>*Comparing number of states won by republicans and democrats in 2016*"
   ]
  },
  {
   "cell_type": "code",
   "execution_count": 6,
   "metadata": {},
   "outputs": [
    {
     "data": {
      "text/html": [
       "<table>\n",
       "<thead><tr><th scope=col>candidate</th><th scope=col>state_won</th></tr></thead>\n",
       "<tbody>\n",
       "\t<tr><td>Clinton</td><td>21     </td></tr>\n",
       "\t<tr><td>Trump  </td><td>30     </td></tr>\n",
       "</tbody>\n",
       "</table>\n"
      ],
      "text/latex": [
       "\\begin{tabular}{r|ll}\n",
       " candidate & state\\_won\\\\\n",
       "\\hline\n",
       "\t Clinton & 21     \\\\\n",
       "\t Trump   & 30     \\\\\n",
       "\\end{tabular}\n"
      ],
      "text/markdown": [
       "\n",
       "| candidate | state_won |\n",
       "|---|---|\n",
       "| Clinton | 21      |\n",
       "| Trump   | 30      |\n",
       "\n"
      ],
      "text/plain": [
       "  candidate state_won\n",
       "1 Clinton   21       \n",
       "2 Trump     30       "
      ]
     },
     "metadata": {},
     "output_type": "display_data"
    },
    {
     "data": {
      "image/png": "[encoded data removed]",
      "text/plain": [
       "Plot with title \"States won in 2016\""
      ]
     },
     "metadata": {},
     "output_type": "display_data"
    }
   ],
   "source": [
    "stateWinner  <- unique(vote_share_2016[c(\"state_code\",\"clinton_trump_state\")])\n",
    "stateFreq  <- as.data.frame(table(stateWinner$clinton_trump_state))\n",
    "names(stateFreq)  <- c(\"candidate\",\"state_won\")\n",
    "stateFreq\n",
    "barplot(stateFreq$state_won, main = \"States won in 2016\",\n",
    "        names.arg = stateFreq$candidate, \n",
    "        col = c(\"blue\", \"red\"), \n",
    "        horiz = TRUE)"
   ]
  },
  {
   "cell_type": "markdown",
   "metadata": {},
   "source": [
    "### <font color=#4a4c52>*Checking for any duplicate counties*"
   ]
  },
  {
   "cell_type": "code",
   "execution_count": 7,
   "metadata": {},
   "outputs": [
    {
     "data": {
      "text/plain": [
       "\n",
       "         Adair County          Adams County         Albany County \n",
       "                    4                    12                     2 \n",
       "     Alexander County       Allegany County      Alleghany County \n",
       "                    2                     2                     2 \n",
       "         Allen County       Anderson County      Armstrong County \n",
       "                    4                     5                     2 \n",
       "       Ashland County       Atchison County          Baker County \n",
       "                    2                     2                     3 \n",
       "       Baldwin County        Barbour County          Barry County \n",
       "                    2                     2                     2 \n",
       "        Barton County           Bath County            Bay County \n",
       "                    2                     2                     2 \n",
       "      Beaufort County         Beaver County        Bedford County \n",
       "                    2                     3                     3 \n",
       "          Bell County         Benton County       Berkeley County \n",
       "                    2                     9                     2 \n",
       "       Berrien County           Bibb County       Big Horn County \n",
       "                    2                     2                     2 \n",
       "        Blaine County         Blount County          Boone County \n",
       "                    4                     2                     8 \n",
       "       Bourbon County           Boyd County       Bradford County \n",
       "                    2                     2                     2 \n",
       "       Bradley County        Bristol County         Brooks County \n",
       "                    2                     2                     2 \n",
       "         Brown County      Brunswick County          Bryan County \n",
       "                    9                     2                     2 \n",
       "      Buchanan County        Buffalo County          Burke County \n",
       "                    3                     3                     3 \n",
       "        Butler County          Butte County       Caldwell County \n",
       "                    8                     3                     4 \n",
       "       Calhoun County         Camden County        Cameron County \n",
       "                   11                     4                     2 \n",
       "      Campbell County         Carbon County       Caroline County \n",
       "                    5                     4                     2 \n",
       "       Carroll County         Carter County           Cass County \n",
       "                   13                     5                     9 \n",
       "         Cedar County       Chambers County      Champaign County \n",
       "                    3                     2                     2 \n",
       "     Charlotte County          Chase County        Chatham County \n",
       "                    2                     2                     2 \n",
       "    Chautauqua County       Cherokee County        Chester County \n",
       "                    2                     8                     3 \n",
       "  Chesterfield County       Cheyenne County      Chickasaw County \n",
       "                    2                     3                     2 \n",
       "      Chippewa County        Choctaw County      Christian County \n",
       "                    3                     3                     3 \n",
       "     Claiborne County          Clark County         Clarke County \n",
       "                    2                    12                     5 \n",
       "          Clay County        Clayton County     Clearwater County \n",
       "                   18                     2                     2 \n",
       "      Cleburne County      Cleveland County        Clinton County \n",
       "                    2                     3                     9 \n",
       "        Coffee County         Colfax County       Columbia County \n",
       "                    3                     2                     8 \n",
       "      Comanche County           Cook County           Coos County \n",
       "                    3                     3                     2 \n",
       "     Covington County          Craig County       Crawford County \n",
       "                    2                     2                    11 \n",
       "    Crittenden County       Crockett County          Crook County \n",
       "                    2                     2                     2 \n",
       "    Cumberland County          Curry County         Custer County \n",
       "                    8                     2                     6 \n",
       "          Dade County         Dakota County         Dallas County \n",
       "                    2                     2                     5 \n",
       "      Davidson County        Daviess County          Davis County \n",
       "                    2                     3                     2 \n",
       "        Dawson County        Decatur County         DeKalb County \n",
       "                    4                     5                     6 \n",
       "      Delaware County          Delta County         DeSoto County \n",
       "                    6                     3                     2 \n",
       "         Deuel County          Dewey County      Dickinson County \n",
       "                    2                     2                     3 \n",
       "         Dodge County     Dorchester County        Douglas County \n",
       "                    4                     2                    12 \n",
       "          Dunn County          Duval County           Eddy County \n",
       "                    2                     2                     2 \n",
       "       Edwards County      Effingham County        El Paso County \n",
       "                    3                     2                     2 \n",
       "        Elbert County            Elk County          Ellis County \n",
       "                    2                     2                     3 \n",
       "        Elmore County          Emmet County           Erie County \n",
       "                    2                     2                     3 \n",
       "      Escambia County          Essex County      Fairfield County \n",
       "                    2                     5                     3 \n",
       "        Fannin County        Fayette County       Fillmore County \n",
       "                    2                    11                     2 \n",
       "      Florence County          Floyd County           Ford County \n",
       "                    2                     6                     2 \n",
       "        Forest County        Forsyth County       Franklin County \n",
       "                    2                     2                    24 \n",
       "     Frederick County        Fremont County         Fulton County \n",
       "                    2                     4                     8 \n",
       "      Gallatin County       Garfield County        Genesee County \n",
       "                    3                     6                     2 \n",
       "        Gibson County          Giles County         Gilmer County \n",
       "                    2                     2                     2 \n",
       "    Gloucester County  Golden Valley County          Grady County \n",
       "                    2                     2                     2 \n",
       "        Graham County          Grand County          Grant County \n",
       "                    3                     2                    14 \n",
       "          Gray County        Grayson County        Greeley County \n",
       "                    2                     3                     2 \n",
       "         Green County         Greene County      Greenwood County \n",
       "                    2                    14                     2 \n",
       "        Grundy County      Guadalupe County           Hale County \n",
       "                    4                     2                     2 \n",
       "       Halifax County           Hall County       Hamilton County \n",
       "                    2                     3                    10 \n",
       "     Hampshire County        Hancock County       Hardeman County \n",
       "                    2                    10                     2 \n",
       "        Hardin County        Harding County         Harlan County \n",
       "                    6                     2                     2 \n",
       "        Harper County         Harris County       Harrison County \n",
       "                    2                     2                     8 \n",
       "          Hart County        Haskell County        Haywood County \n",
       "                    2                     3                     2 \n",
       "     Henderson County          Henry County        Hickman County \n",
       "                    5                    10                     2 \n",
       "       Hidalgo County       Highland County           Hill County \n",
       "                    2                     2                     2 \n",
       "  Hillsborough County         Holmes County           Holt County \n",
       "                    2                     3                     2 \n",
       "       Hopkins County        Houston County         Howard County \n",
       "                    2                     5                     7 \n",
       "        Hughes County       Humboldt County      Humphreys County \n",
       "                    2                     3                     2 \n",
       "         Huron County     Hutchinson County           Hyde County \n",
       "                    2                     2                     2 \n",
       "          Iowa County           Iron County        Jackson County \n",
       "                    2                     4                    23 \n",
       "        Jasper County     Jeff Davis County      Jefferson County \n",
       "                    8                     2                    25 \n",
       "       Johnson County       Johnston County          Jones County \n",
       "                   12                     2                     6 \n",
       "          Kane County        Kendall County           Kent County \n",
       "                    2                     2                     5 \n",
       "          King County          Kings County          Kiowa County \n",
       "                    2                     2                     3 \n",
       "          Knox County      Lafayette County           Lake County \n",
       "                    9                     5                    12 \n",
       "         Lamar County      Lancaster County           Lane County \n",
       "                    4                     4                     2 \n",
       "    Lauderdale County        Laurens County       Lawrence County \n",
       "                    3                     2                    11 \n",
       "           Lee County           Leon County          Lewis County \n",
       "                   12                     2                     7 \n",
       "       Liberty County      Limestone County        Lincoln County \n",
       "                    4                     2                    23 \n",
       "          Linn County     Livingston County          Logan County \n",
       "                    4                     5                    10 \n",
       "        Louisa County        Lowndes County          Lucas County \n",
       "                    2                     3                     2 \n",
       "          Lyon County          Macon County        Madison County \n",
       "                    5                     6                    19 \n",
       "        Marion County      Marquette County       Marshall County \n",
       "                   17                     2                    12 \n",
       "        Martin County          Mason County       McDowell County \n",
       "                    6                     6                     2 \n",
       "       McHenry County       McIntosh County         McLean County \n",
       "                    2                     3                     3 \n",
       "     McPherson County          Meade County    Mecklenburg County \n",
       "                    3                     3                     2 \n",
       "        Medina County          Meigs County         Menard County \n",
       "                    2                     2                     2 \n",
       "     Menominee County         Mercer County          Miami County \n",
       "                    2                     8                     3 \n",
       "     Middlesex County        Midland County         Miller County \n",
       "                    4                     2                     3 \n",
       "         Mills County        Mineral County    Mississippi County \n",
       "                    2                     4                     2 \n",
       "      Mitchell County         Monroe County     Montgomery County \n",
       "                    5                    17                    18 \n",
       "         Moore County         Morgan County         Morris County \n",
       "                    3                    11                     3 \n",
       "        Morrow County         Morton County         Murray County \n",
       "                    2                     2                     3 \n",
       "        Nassau County         Nelson County         Nemaha County \n",
       "                    2                     3                     2 \n",
       "        Nevada County         Newton County       Nicholas County \n",
       "                    2                     6                     2 \n",
       "         Noble County    Northampton County Northumberland County \n",
       "                    3                     3                     2 \n",
       "        Oconee County           Ohio County         Oldham County \n",
       "                    2                     3                     2 \n",
       "        Oneida County         Orange County        Orleans County \n",
       "                    3                     8                     2 \n",
       "         Osage County        Osceola County          Otero County \n",
       "                    3                     3                     2 \n",
       "        Otsego County         Ottawa County           Owen County \n",
       "                    2                     4                     2 \n",
       "          Page County         Panola County           Park County \n",
       "                    2                     2                     3 \n",
       "      Paulding County         Pawnee County      Pendleton County \n",
       "                    2                     3                     2 \n",
       "    Pennington County        Perkins County          Perry County \n",
       "                    2                     2                    10 \n",
       "        Phelps County       Phillips County        Pickens County \n",
       "                    2                     4                     3 \n",
       "        Pierce County           Pike County         Platte County \n",
       "                    5                    10                     3 \n",
       "      Plymouth County     Pocahontas County           Polk County \n",
       "                    2                     2                    12 \n",
       "      Pontotoc County           Pope County        Portage County \n",
       "                    2                     3                     2 \n",
       "  Pottawatomie County         Potter County         Powell County \n",
       "                    2                     3                     2 \n",
       "       Prairie County        Pulaski County         Putnam County \n",
       "                    2                     7                     9 \n",
       "       Quitman County         Ramsey County       Randolph County \n",
       "                    2                     2                     8 \n",
       "      Renville County           Rice County       Richland County \n",
       "                    2                     2                     6 \n",
       "      Richmond County         Ripley County          Roane County \n",
       "                    4                     2                     2 \n",
       "       Roberts County      Robertson County           Rock County \n",
       "                    2                     3                     3 \n",
       "    Rockingham County      Roosevelt County          Rowan County \n",
       "                    3                     2                     2 \n",
       "          Rush County           Rusk County        Russell County \n",
       "                    2                     2                     4 \n",
       "    Rutherford County         Saline County       San Juan County \n",
       "                    2                     5                     4 \n",
       "    San Miguel County     Santa Cruz County       Schuyler County \n",
       "                    2                     2                     3 \n",
       "      Scotland County          Scott County       Sedgwick County \n",
       "                    2                    11                     2 \n",
       "      Seminole County         Seneca County         Sevier County \n",
       "                    3                     2                     3 \n",
       "        Seward County         Shelby County       Sheridan County \n",
       "                    2                     9                     5 \n",
       "       Sherman County         Sierra County        Simpson County \n",
       "                    4                     2                     2 \n",
       "         Sioux County          Smith County       Somerset County \n",
       "                    3                     4                     4 \n",
       "       Spencer County      St. Clair County     St. Joseph County \n",
       "                    2                     4                     2 \n",
       "     St. Louis County       Stafford County        Stanton County \n",
       "                    2                     2                     2 \n",
       "         Stark County         Steele County       Stephens County \n",
       "                    3                     2                     3 \n",
       "       Steuben County        Stevens County        Stewart County \n",
       "                    2                     3                     2 \n",
       "         Stone County        Suffolk County       Sullivan County \n",
       "                    3                     2                     6 \n",
       "        Summit County         Sumner County         Sumter County \n",
       "                    3                     2                     4 \n",
       "         Surry County         Sussex County         Talbot County \n",
       "                    2                     3                     2 \n",
       "        Taylor County       Tazewell County        Terrell County \n",
       "                    7                     2                     2 \n",
       "         Teton County          Texas County         Thomas County \n",
       "                    3                     2                     3 \n",
       "      Thurston County          Tioga County         Tipton County \n",
       "                    2                     2                     2 \n",
       "          Todd County        Trinity County         Turner County \n",
       "                    3                     2                     2 \n",
       "         Tyler County          Union County         Upshur County \n",
       "                    2                    17                     2 \n",
       "        Valley County      Van Buren County         Vernon County \n",
       "                    3                     4                     2 \n",
       "        Wabash County         Walker County         Walton County \n",
       "                    2                     3                     2 \n",
       "      Walworth County           Ward County         Warren County \n",
       "                    2                     2                    14 \n",
       "    Washington County          Wayne County        Webster County \n",
       "                   30                    16                     7 \n",
       "         Wells County   Westmoreland County        Wheeler County \n",
       "                    2                     2                     4 \n",
       "         White County        Whitley County        Wichita County \n",
       "                    5                     2                     2 \n",
       "        Wilcox County         Wilkes County      Wilkinson County \n",
       "                    2                     2                     2 \n",
       "      Williams County     Williamson County         Wilson County \n",
       "                    2                     3                     4 \n",
       "       Windham County      Winnebago County        Winston County \n",
       "                    2                     3                     2 \n",
       "          Wise County           Wood County       Woodford County \n",
       "                    2                     4                     2 \n",
       "     Worcester County          Worth County         Wright County \n",
       "                    2                     3                     3 \n",
       "       Wyoming County           York County           Yuma County \n",
       "                    3                     5                     2 "
      ]
     },
     "metadata": {},
     "output_type": "display_data"
    }
   ],
   "source": [
    "\n",
    "countyFreq  <- table(vote_share_2016$county_name)\n",
    "countyFreq[countyFreq > 1]"
   ]
  },
  {
   "cell_type": "code",
   "execution_count": 8,
   "metadata": {},
   "outputs": [
    {
     "data": {
      "text/html": [
       "<table>\n",
       "<thead><tr><th scope=col>state_code</th><th scope=col>county_name</th><th scope=col>Freq</th></tr></thead>\n",
       "<tbody>\n",
       "</tbody>\n",
       "</table>\n"
      ],
      "text/latex": [
       "\\begin{tabular}{r|lll}\n",
       " state\\_code & county\\_name & Freq\\\\\n",
       "\\hline\n",
       "\\end{tabular}\n"
      ],
      "text/markdown": [
       "\n",
       "| state_code | county_name | Freq |\n",
       "|---|---|---|\n",
       "\n"
      ],
      "text/plain": [
       "     state_code county_name Freq"
      ]
     },
     "metadata": {},
     "output_type": "display_data"
    }
   ],
   "source": [
    "# Since two different states can have same county names, lets check if we have duplicate records for counties in same state\n",
    "countyStateFreq  <- as.data.frame(table(vote_share_2016[c(\"state_code\",\"county_name\")]))\n",
    "countyStateFreq[countyStateFreq$Freq > 1, ]"
   ]
  },
  {
   "cell_type": "markdown",
   "metadata": {},
   "source": [
    "### <font color=#4a4c52>*Since we will be analysing statewise and not by county wise, lets determine the vote share per state*"
   ]
  },
  {
   "cell_type": "code",
   "execution_count": 9,
   "metadata": {},
   "outputs": [
    {
     "data": {
      "text/html": [
       "<table>\n",
       "<thead><tr><th scope=col>state_code</th><th scope=col>clinton_trump_state</th><th scope=col>clinton_votes</th><th scope=col>trump_votes</th><th scope=col>total_votes</th><th scope=col>trump_share</th><th scope=col>clinton_share</th></tr></thead>\n",
       "<tbody>\n",
       "\t<tr><td>CA      </td><td>Clinton </td><td>7230699 </td><td>3841134 </td><td>11733523</td><td>0.33    </td><td>0.67    </td></tr>\n",
       "\t<tr><td>CO      </td><td>Clinton </td><td>1212209 </td><td>1137455 </td><td> 2564185</td><td>0.44    </td><td>0.56    </td></tr>\n",
       "\t<tr><td>CT      </td><td>Clinton </td><td> 884432 </td><td> 668266 </td><td> 1623542</td><td>0.41    </td><td>0.59    </td></tr>\n",
       "\t<tr><td>DC      </td><td>Clinton </td><td> 260223 </td><td>  11553 </td><td>  280272</td><td>0.04    </td><td>0.96    </td></tr>\n",
       "\t<tr><td>DE      </td><td>Clinton </td><td> 235581 </td><td> 185103 </td><td>  441535</td><td>0.42    </td><td>0.58    </td></tr>\n",
       "\t<tr><td>HI      </td><td>Clinton </td><td> 266827 </td><td> 128815 </td><td>  428825</td><td>0.30    </td><td>0.70    </td></tr>\n",
       "</tbody>\n",
       "</table>\n"
      ],
      "text/latex": [
       "\\begin{tabular}{r|lllllll}\n",
       " state\\_code & clinton\\_trump\\_state & clinton\\_votes & trump\\_votes & total\\_votes & trump\\_share & clinton\\_share\\\\\n",
       "\\hline\n",
       "\t CA       & Clinton  & 7230699  & 3841134  & 11733523 & 0.33     & 0.67    \\\\\n",
       "\t CO       & Clinton  & 1212209  & 1137455  &  2564185 & 0.44     & 0.56    \\\\\n",
       "\t CT       & Clinton  &  884432  &  668266  &  1623542 & 0.41     & 0.59    \\\\\n",
       "\t DC       & Clinton  &  260223  &   11553  &   280272 & 0.04     & 0.96    \\\\\n",
       "\t DE       & Clinton  &  235581  &  185103  &   441535 & 0.42     & 0.58    \\\\\n",
       "\t HI       & Clinton  &  266827  &  128815  &   428825 & 0.30     & 0.70    \\\\\n",
       "\\end{tabular}\n"
      ],
      "text/markdown": [
       "\n",
       "| state_code | clinton_trump_state | clinton_votes | trump_votes | total_votes | trump_share | clinton_share |\n",
       "|---|---|---|---|---|---|---|\n",
       "| CA       | Clinton  | 7230699  | 3841134  | 11733523 | 0.33     | 0.67     |\n",
       "| CO       | Clinton  | 1212209  | 1137455  |  2564185 | 0.44     | 0.56     |\n",
       "| CT       | Clinton  |  884432  |  668266  |  1623542 | 0.41     | 0.59     |\n",
       "| DC       | Clinton  |  260223  |   11553  |   280272 | 0.04     | 0.96     |\n",
       "| DE       | Clinton  |  235581  |  185103  |   441535 | 0.42     | 0.58     |\n",
       "| HI       | Clinton  |  266827  |  128815  |   428825 | 0.30     | 0.70     |\n",
       "\n"
      ],
      "text/plain": [
       "  state_code clinton_trump_state clinton_votes trump_votes total_votes\n",
       "1 CA         Clinton             7230699       3841134     11733523   \n",
       "2 CO         Clinton             1212209       1137455      2564185   \n",
       "3 CT         Clinton              884432        668266      1623542   \n",
       "4 DC         Clinton              260223         11553       280272   \n",
       "5 DE         Clinton              235581        185103       441535   \n",
       "6 HI         Clinton              266827        128815       428825   \n",
       "  trump_share clinton_share\n",
       "1 0.33        0.67         \n",
       "2 0.44        0.56         \n",
       "3 0.41        0.59         \n",
       "4 0.04        0.96         \n",
       "5 0.42        0.58         \n",
       "6 0.30        0.70         "
      ]
     },
     "metadata": {},
     "output_type": "display_data"
    }
   ],
   "source": [
    "voteShareByState <- aggregate(vote_share_2016[c(\"clinton_votes\", \"trump_votes\", \"total_votes\")], \n",
    "          by = list(vote_share_2016$state_code, vote_share_2016$clinton_trump_state), \n",
    "          FUN = sum)\n",
    "names(voteShareByState) <- c(\"state_code\",\"clinton_trump_state\",\n",
    "                \"clinton_votes\",\"trump_votes\",\"total_votes\")\n",
    "voteShareByState[\"trump_share\"] = round(voteShareByState$trump_votes/voteShareByState$total_votes, 2)\n",
    "voteShareByState[\"clinton_share\"] = 1 - voteShareByState$trump_share\n",
    "head(voteShareByState)"
   ]
  },
  {
   "cell_type": "markdown",
   "metadata": {},
   "source": [
    "### <font color=#4a4c52>*Adding a new row for total vote share across all counties in US*"
   ]
  },
  {
   "cell_type": "code",
   "execution_count": 10,
   "metadata": {},
   "outputs": [],
   "source": [
    "voteShareByState <- voteShareByState %>%\n",
    "    add_row(state_code = \"US\", \n",
    "            clinton_trump_state = \"Trump\", \n",
    "            clinton_votes = sum(voteShareByState$clinton_votes), \n",
    "            trump_votes = sum(voteShareByState$trump_votes), \n",
    "            total_votes = sum(voteShareByState$total_votes), \n",
    "            trump_share = round(sum(voteShareByState$trump_votes)/sum(voteShareByState$total_votes), 2),\n",
    "            clinton_share = 1 - round(sum(voteShareByState$trump_votes)/sum(voteShareByState$total_votes), 2))"
   ]
  },
  {
   "cell_type": "code",
   "execution_count": 11,
   "metadata": {},
   "outputs": [
    {
     "data": {
      "text/html": [
       "<table>\n",
       "<thead><tr><th scope=col>state_code</th><th scope=col>clinton_trump_state</th><th scope=col>clinton_votes</th><th scope=col>trump_votes</th><th scope=col>total_votes</th><th scope=col>trump_share</th><th scope=col>clinton_share</th></tr></thead>\n",
       "<tbody>\n",
       "\t<tr><td>CA      </td><td>Clinton </td><td>7230699 </td><td>3841134 </td><td>11733523</td><td>0.33    </td><td>0.67    </td></tr>\n",
       "\t<tr><td>CO      </td><td>Clinton </td><td>1212209 </td><td>1137455 </td><td> 2564185</td><td>0.44    </td><td>0.56    </td></tr>\n",
       "\t<tr><td>CT      </td><td>Clinton </td><td> 884432 </td><td> 668266 </td><td> 1623542</td><td>0.41    </td><td>0.59    </td></tr>\n",
       "\t<tr><td>DC      </td><td>Clinton </td><td> 260223 </td><td>  11553 </td><td>  280272</td><td>0.04    </td><td>0.96    </td></tr>\n",
       "\t<tr><td>DE      </td><td>Clinton </td><td> 235581 </td><td> 185103 </td><td>  441535</td><td>0.42    </td><td>0.58    </td></tr>\n",
       "\t<tr><td>HI      </td><td>Clinton </td><td> 266827 </td><td> 128815 </td><td>  428825</td><td>0.30    </td><td>0.70    </td></tr>\n",
       "</tbody>\n",
       "</table>\n"
      ],
      "text/latex": [
       "\\begin{tabular}{r|lllllll}\n",
       " state\\_code & clinton\\_trump\\_state & clinton\\_votes & trump\\_votes & total\\_votes & trump\\_share & clinton\\_share\\\\\n",
       "\\hline\n",
       "\t CA       & Clinton  & 7230699  & 3841134  & 11733523 & 0.33     & 0.67    \\\\\n",
       "\t CO       & Clinton  & 1212209  & 1137455  &  2564185 & 0.44     & 0.56    \\\\\n",
       "\t CT       & Clinton  &  884432  &  668266  &  1623542 & 0.41     & 0.59    \\\\\n",
       "\t DC       & Clinton  &  260223  &   11553  &   280272 & 0.04     & 0.96    \\\\\n",
       "\t DE       & Clinton  &  235581  &  185103  &   441535 & 0.42     & 0.58    \\\\\n",
       "\t HI       & Clinton  &  266827  &  128815  &   428825 & 0.30     & 0.70    \\\\\n",
       "\\end{tabular}\n"
      ],
      "text/markdown": [
       "\n",
       "| state_code | clinton_trump_state | clinton_votes | trump_votes | total_votes | trump_share | clinton_share |\n",
       "|---|---|---|---|---|---|---|\n",
       "| CA       | Clinton  | 7230699  | 3841134  | 11733523 | 0.33     | 0.67     |\n",
       "| CO       | Clinton  | 1212209  | 1137455  |  2564185 | 0.44     | 0.56     |\n",
       "| CT       | Clinton  |  884432  |  668266  |  1623542 | 0.41     | 0.59     |\n",
       "| DC       | Clinton  |  260223  |   11553  |   280272 | 0.04     | 0.96     |\n",
       "| DE       | Clinton  |  235581  |  185103  |   441535 | 0.42     | 0.58     |\n",
       "| HI       | Clinton  |  266827  |  128815  |   428825 | 0.30     | 0.70     |\n",
       "\n"
      ],
      "text/plain": [
       "  state_code clinton_trump_state clinton_votes trump_votes total_votes\n",
       "1 CA         Clinton             7230699       3841134     11733523   \n",
       "2 CO         Clinton             1212209       1137455      2564185   \n",
       "3 CT         Clinton              884432        668266      1623542   \n",
       "4 DC         Clinton              260223         11553       280272   \n",
       "5 DE         Clinton              235581        185103       441535   \n",
       "6 HI         Clinton              266827        128815       428825   \n",
       "  trump_share clinton_share\n",
       "1 0.33        0.67         \n",
       "2 0.44        0.56         \n",
       "3 0.41        0.59         \n",
       "4 0.04        0.96         \n",
       "5 0.42        0.58         \n",
       "6 0.30        0.70         "
      ]
     },
     "metadata": {},
     "output_type": "display_data"
    }
   ],
   "source": [
    "head(voteShareByState)"
   ]
  },
  {
   "cell_type": "markdown",
   "metadata": {},
   "source": [
    "### <font color=#4a4c52>*Visualizing density distribution for county vote share for republicans and democrats*"
   ]
  },
  {
   "cell_type": "code",
   "execution_count": 12,
   "metadata": {},
   "outputs": [
    {
     "data": {
      "image/png": "[encoded data removed]",
      "text/plain": [
       "Plot with title \"2016 County Vote share Density ditribution\""
      ]
     },
     "metadata": {},
     "output_type": "display_data"
    }
   ],
   "source": [
    "plot(density(vote_share_2016$cinton_percent), col = \"blue\", xlab = \"Vote share in percentage\", \n",
    "     main = \"2016 County Vote share Density ditribution\")\n",
    "lines(density(vote_share_2016$trump_percent), col = \"red\")\n",
    "legend(\"topright\", legend=c(\"Democrats\", \"Republican\"),\n",
    "       col=c(\"blue\", \"red\"), lty=1:1, cex=0.8)"
   ]
  },
  {
   "cell_type": "markdown",
   "metadata": {},
   "source": [
    "### <font color=#4a4c52>*Visualizing density distribution for state-wise vote share for republicans and democrats*"
   ]
  },
  {
   "cell_type": "code",
   "execution_count": 13,
   "metadata": {},
   "outputs": [
    {
     "data": {
      "image/png": "[encoded data removed]",
      "text/plain": [
       "Plot with title \"2016 State Vote share Density ditribution\""
      ]
     },
     "metadata": {},
     "output_type": "display_data"
    }
   ],
   "source": [
    "plot(density(voteShareByState$clinton_share), col = \"blue\", \n",
    "     xlab = \"Vote share in percentage\", \n",
    "     main = \"2016 State Vote share Density ditribution\")\n",
    "lines(density(voteShareByState$trump_share), col = \"red\")\n",
    "\n",
    "legend(\"topright\", legend=c(\"Democrats\", \"Republican\"),\n",
    "       col=c(\"blue\", \"red\"), lty=1:1, cex=0.8)"
   ]
  },
  {
   "cell_type": "markdown",
   "metadata": {},
   "source": [
    "## <font color=#304073><u><center>Data preparation & Exploratory data analysis on 2016 election poll data</center></u></font>"
   ]
  },
  {
   "cell_type": "markdown",
   "metadata": {},
   "source": [
    "### <font color=#4a4c52>*Importing 2016 polls data*"
   ]
  },
  {
   "cell_type": "code",
   "execution_count": 14,
   "metadata": {},
   "outputs": [],
   "source": [
    "polls2016 <- read.csv(\"president_general_polls_2016.csv\", header = TRUE, sep = \",\")"
   ]
  },
  {
   "cell_type": "markdown",
   "metadata": {},
   "source": [
    "### <font color=#4a4c52>*Selecting only relevant columns*"
   ]
  },
  {
   "cell_type": "code",
   "execution_count": 15,
   "metadata": {},
   "outputs": [
    {
     "data": {
      "text/html": [
       "<ol class=list-inline>\n",
       "\t<li>'cycle'</li>\n",
       "\t<li>'branch'</li>\n",
       "\t<li>'type'</li>\n",
       "\t<li>'matchup'</li>\n",
       "\t<li>'forecastdate'</li>\n",
       "\t<li>'state'</li>\n",
       "\t<li>'startdate'</li>\n",
       "\t<li>'enddate'</li>\n",
       "\t<li>'pollster'</li>\n",
       "\t<li>'grade'</li>\n",
       "\t<li>'samplesize'</li>\n",
       "\t<li>'population'</li>\n",
       "\t<li>'poll_wt'</li>\n",
       "\t<li>'rawpoll_clinton'</li>\n",
       "\t<li>'rawpoll_trump'</li>\n",
       "\t<li>'rawpoll_johnson'</li>\n",
       "\t<li>'rawpoll_mcmullin'</li>\n",
       "\t<li>'adjpoll_clinton'</li>\n",
       "\t<li>'adjpoll_trump'</li>\n",
       "\t<li>'adjpoll_johnson'</li>\n",
       "\t<li>'adjpoll_mcmullin'</li>\n",
       "\t<li>'multiversions'</li>\n",
       "\t<li>'url'</li>\n",
       "\t<li>'poll_id'</li>\n",
       "\t<li>'question_id'</li>\n",
       "\t<li>'createddate'</li>\n",
       "\t<li>'timestamp'</li>\n",
       "</ol>\n"
      ],
      "text/latex": [
       "\\begin{enumerate*}\n",
       "\\item 'cycle'\n",
       "\\item 'branch'\n",
       "\\item 'type'\n",
       "\\item 'matchup'\n",
       "\\item 'forecastdate'\n",
       "\\item 'state'\n",
       "\\item 'startdate'\n",
       "\\item 'enddate'\n",
       "\\item 'pollster'\n",
       "\\item 'grade'\n",
       "\\item 'samplesize'\n",
       "\\item 'population'\n",
       "\\item 'poll\\_wt'\n",
       "\\item 'rawpoll\\_clinton'\n",
       "\\item 'rawpoll\\_trump'\n",
       "\\item 'rawpoll\\_johnson'\n",
       "\\item 'rawpoll\\_mcmullin'\n",
       "\\item 'adjpoll\\_clinton'\n",
       "\\item 'adjpoll\\_trump'\n",
       "\\item 'adjpoll\\_johnson'\n",
       "\\item 'adjpoll\\_mcmullin'\n",
       "\\item 'multiversions'\n",
       "\\item 'url'\n",
       "\\item 'poll\\_id'\n",
       "\\item 'question\\_id'\n",
       "\\item 'createddate'\n",
       "\\item 'timestamp'\n",
       "\\end{enumerate*}\n"
      ],
      "text/markdown": [
       "1. 'cycle'\n",
       "2. 'branch'\n",
       "3. 'type'\n",
       "4. 'matchup'\n",
       "5. 'forecastdate'\n",
       "6. 'state'\n",
       "7. 'startdate'\n",
       "8. 'enddate'\n",
       "9. 'pollster'\n",
       "10. 'grade'\n",
       "11. 'samplesize'\n",
       "12. 'population'\n",
       "13. 'poll_wt'\n",
       "14. 'rawpoll_clinton'\n",
       "15. 'rawpoll_trump'\n",
       "16. 'rawpoll_johnson'\n",
       "17. 'rawpoll_mcmullin'\n",
       "18. 'adjpoll_clinton'\n",
       "19. 'adjpoll_trump'\n",
       "20. 'adjpoll_johnson'\n",
       "21. 'adjpoll_mcmullin'\n",
       "22. 'multiversions'\n",
       "23. 'url'\n",
       "24. 'poll_id'\n",
       "25. 'question_id'\n",
       "26. 'createddate'\n",
       "27. 'timestamp'\n",
       "\n",
       "\n"
      ],
      "text/plain": [
       " [1] \"cycle\"            \"branch\"           \"type\"             \"matchup\"         \n",
       " [5] \"forecastdate\"     \"state\"            \"startdate\"        \"enddate\"         \n",
       " [9] \"pollster\"         \"grade\"            \"samplesize\"       \"population\"      \n",
       "[13] \"poll_wt\"          \"rawpoll_clinton\"  \"rawpoll_trump\"    \"rawpoll_johnson\" \n",
       "[17] \"rawpoll_mcmullin\" \"adjpoll_clinton\"  \"adjpoll_trump\"    \"adjpoll_johnson\" \n",
       "[21] \"adjpoll_mcmullin\" \"multiversions\"    \"url\"              \"poll_id\"         \n",
       "[25] \"question_id\"      \"createddate\"      \"timestamp\"       "
      ]
     },
     "metadata": {},
     "output_type": "display_data"
    },
    {
     "data": {
      "text/html": [
       "<table>\n",
       "<thead><tr><th scope=col>state</th><th scope=col>pollster</th><th scope=col>adjpoll_clinton</th><th scope=col>adjpoll_trump</th></tr></thead>\n",
       "<tbody>\n",
       "\t<tr><td>U.S.                                                      </td><td>ABC News/Washington Post                                  </td><td>45.20163                                                  </td><td>41.72430                                                  </td></tr>\n",
       "\t<tr><td>U.S.                                                      </td><td>Google Consumer Surveys                                   </td><td>43.34557                                                  </td><td>41.21439                                                  </td></tr>\n",
       "\t<tr><td>U.S.                                                      </td><td>Ipsos                                                     </td><td>42.02638                                                  </td><td>38.81620                                                  </td></tr>\n",
       "\t<tr><td>U.S.                                                      </td><td>YouGov                                                    </td><td>45.65676                                                  </td><td>40.92004                                                  </td></tr>\n",
       "\t<tr><td>U.S.                                                      </td><td>Gravis Marketing                                          </td><td>46.84089                                                  </td><td>42.33184                                                  </td></tr>\n",
       "\t<tr><td>U.S.                                                          </td><td>Fox News/Anderson Robbins Research/Shaw &amp; Company Research</td><td>49.02208                                                      </td><td>43.95631                                                      </td></tr>\n",
       "</tbody>\n",
       "</table>\n"
      ],
      "text/latex": [
       "\\begin{tabular}{r|llll}\n",
       " state & pollster & adjpoll\\_clinton & adjpoll\\_trump\\\\\n",
       "\\hline\n",
       "\t U.S.                                                       & ABC News/Washington Post                                   & 45.20163                                                   & 41.72430                                                  \\\\\n",
       "\t U.S.                                                       & Google Consumer Surveys                                    & 43.34557                                                   & 41.21439                                                  \\\\\n",
       "\t U.S.                                                       & Ipsos                                                      & 42.02638                                                   & 38.81620                                                  \\\\\n",
       "\t U.S.                                                       & YouGov                                                     & 45.65676                                                   & 40.92004                                                  \\\\\n",
       "\t U.S.                                                       & Gravis Marketing                                           & 46.84089                                                   & 42.33184                                                  \\\\\n",
       "\t U.S.                                                         & Fox News/Anderson Robbins Research/Shaw \\& Company Research & 49.02208                                                     & 43.95631                                                    \\\\\n",
       "\\end{tabular}\n"
      ],
      "text/markdown": [
       "\n",
       "| state | pollster | adjpoll_clinton | adjpoll_trump |\n",
       "|---|---|---|---|\n",
       "| U.S.                                                       | ABC News/Washington Post                                   | 45.20163                                                   | 41.72430                                                   |\n",
       "| U.S.                                                       | Google Consumer Surveys                                    | 43.34557                                                   | 41.21439                                                   |\n",
       "| U.S.                                                       | Ipsos                                                      | 42.02638                                                   | 38.81620                                                   |\n",
       "| U.S.                                                       | YouGov                                                     | 45.65676                                                   | 40.92004                                                   |\n",
       "| U.S.                                                       | Gravis Marketing                                           | 46.84089                                                   | 42.33184                                                   |\n",
       "| U.S.                                                       | Fox News/Anderson Robbins Research/Shaw & Company Research | 49.02208                                                   | 43.95631                                                   |\n",
       "\n"
      ],
      "text/plain": [
       "  state pollster                                                  \n",
       "1 U.S.  ABC News/Washington Post                                  \n",
       "2 U.S.  Google Consumer Surveys                                   \n",
       "3 U.S.  Ipsos                                                     \n",
       "4 U.S.  YouGov                                                    \n",
       "5 U.S.  Gravis Marketing                                          \n",
       "6 U.S.  Fox News/Anderson Robbins Research/Shaw & Company Research\n",
       "  adjpoll_clinton adjpoll_trump\n",
       "1 45.20163        41.72430     \n",
       "2 43.34557        41.21439     \n",
       "3 42.02638        38.81620     \n",
       "4 45.65676        40.92004     \n",
       "5 46.84089        42.33184     \n",
       "6 49.02208        43.95631     "
      ]
     },
     "metadata": {},
     "output_type": "display_data"
    }
   ],
   "source": [
    "names(polls2016)\n",
    "polls2016  <- polls2016[c(\"state\", \"pollster\", \"adjpoll_clinton\", \"adjpoll_trump\")]\n",
    "head(polls2016)"
   ]
  },
  {
   "cell_type": "markdown",
   "metadata": {},
   "source": [
    "### <font color=#4a4c52>*Populating a new column for state code and checking for any missing data*"
   ]
  },
  {
   "cell_type": "code",
   "execution_count": 16,
   "metadata": {},
   "outputs": [
    {
     "data": {
      "text/plain": [
       "polls2016$state_code \n",
       "       n  missing distinct \n",
       "    9141     3483       50 \n",
       "\n",
       "lowest : AK AL AR AZ CA, highest: VT WA WI WV WY"
      ]
     },
     "metadata": {},
     "output_type": "display_data"
    }
   ],
   "source": [
    "# Adding a new column for state code\n",
    "polls2016$state_code  <- state.abb[match(polls2016$state, state.name)]\n",
    "# Validating count of state codes in order to check for any missing data\n",
    "describe(polls2016$state_code)"
   ]
  },
  {
   "cell_type": "code",
   "execution_count": 17,
   "metadata": {},
   "outputs": [
    {
     "data": {
      "text/html": [
       "<table>\n",
       "<thead><tr><th></th><th scope=col>Var1</th><th scope=col>Freq</th></tr></thead>\n",
       "<tbody>\n",
       "\t<tr><th scope=row>9</th><td>District of Columbia</td><td>  78                </td></tr>\n",
       "\t<tr><th scope=row>21</th><td>Maine CD-1          </td><td>  33                </td></tr>\n",
       "\t<tr><th scope=row>22</th><td>Maine CD-2          </td><td>  42                </td></tr>\n",
       "\t<tr><th scope=row>31</th><td>Nebraska CD-1       </td><td>   3                </td></tr>\n",
       "\t<tr><th scope=row>32</th><td>Nebraska CD-2       </td><td>   6                </td></tr>\n",
       "\t<tr><th scope=row>33</th><td>Nebraska CD-3       </td><td>   3                </td></tr>\n",
       "\t<tr><th scope=row>50</th><td>U.S.                </td><td>3318                </td></tr>\n",
       "</tbody>\n",
       "</table>\n"
      ],
      "text/latex": [
       "\\begin{tabular}{r|ll}\n",
       "  & Var1 & Freq\\\\\n",
       "\\hline\n",
       "\t9 & District of Columbia &   78                \\\\\n",
       "\t21 & Maine CD-1           &   33                \\\\\n",
       "\t22 & Maine CD-2           &   42                \\\\\n",
       "\t31 & Nebraska CD-1        &    3                \\\\\n",
       "\t32 & Nebraska CD-2        &    6                \\\\\n",
       "\t33 & Nebraska CD-3        &    3                \\\\\n",
       "\t50 & U.S.                 & 3318                \\\\\n",
       "\\end{tabular}\n"
      ],
      "text/markdown": [
       "\n",
       "| <!--/--> | Var1 | Freq |\n",
       "|---|---|---|\n",
       "| 9 | District of Columbia |   78                 |\n",
       "| 21 | Maine CD-1           |   33                 |\n",
       "| 22 | Maine CD-2           |   42                 |\n",
       "| 31 | Nebraska CD-1        |    3                 |\n",
       "| 32 | Nebraska CD-2        |    6                 |\n",
       "| 33 | Nebraska CD-3        |    3                 |\n",
       "| 50 | U.S.                 | 3318                 |\n",
       "\n"
      ],
      "text/plain": [
       "   Var1                 Freq\n",
       "9  District of Columbia   78\n",
       "21 Maine CD-1             33\n",
       "22 Maine CD-2             42\n",
       "31 Nebraska CD-1           3\n",
       "32 Nebraska CD-2           6\n",
       "33 Nebraska CD-3           3\n",
       "50 U.S.                 3318"
      ]
     },
     "metadata": {},
     "output_type": "display_data"
    }
   ],
   "source": [
    "missingStateCode <- polls2016[c(\"state\",\"state_code\")] %>%\n",
    "                                filter_all(any_vars(is.na(.)))\n",
    "missingStateCodeFreq <- as.data.frame(table(missingStateCode$state))\n",
    "missingStateCodeFreq[missingStateCodeFreq$Freq > 1, ]"
   ]
  },
  {
   "cell_type": "code",
   "execution_count": 18,
   "metadata": {},
   "outputs": [
    {
     "data": {
      "text/plain": [
       "polls2016$state_code \n",
       "       n  missing distinct \n",
       "   12624        0       52 \n",
       "\n",
       "lowest : AK AL AR AZ CA, highest: VT WA WI WV WY"
      ]
     },
     "metadata": {},
     "output_type": "display_data"
    }
   ],
   "source": [
    "# Replacing state names with appropriate state code\n",
    "polls2016$state_code[polls2016$state == \"U.S.\"]  <- \"US\"\n",
    "polls2016$state_code[polls2016$state == \"District of Columbia\"]  <- \"DC\"\n",
    "polls2016$state_code[polls2016$state == \"Maine CD-1\"]  <- \"ME\"\n",
    "polls2016$state_code[polls2016$state == \"Maine CD-2\"]  <- \"ME\"\n",
    "polls2016$state_code[polls2016$state == \"Nebraska CD-1\"]  <- \"NE\"\n",
    "polls2016$state_code[polls2016$state == \"Nebraska CD-2\"]  <- \"NE\"\n",
    "polls2016$state_code[polls2016$state == \"Nebraska CD-3\"]  <- \"NE\"\n",
    "describe(polls2016$state_code)"
   ]
  },
  {
   "cell_type": "markdown",
   "metadata": {},
   "source": [
    "### <font color=#4a4c52>*Populating a new column for winning candidate in each state*"
   ]
  },
  {
   "cell_type": "code",
   "execution_count": 19,
   "metadata": {},
   "outputs": [
    {
     "data": {
      "text/html": [
       "<table>\n",
       "<thead><tr><th scope=col>state</th><th scope=col>pollster</th><th scope=col>adjpoll_clinton</th><th scope=col>adjpoll_trump</th><th scope=col>state_code</th><th scope=col>winner</th></tr></thead>\n",
       "<tbody>\n",
       "\t<tr><td>U.S.                                                      </td><td>ABC News/Washington Post                                  </td><td>45.20163                                                  </td><td>41.72430                                                  </td><td>US                                                        </td><td>Trump                                                     </td></tr>\n",
       "\t<tr><td>U.S.                                                      </td><td>Google Consumer Surveys                                   </td><td>43.34557                                                  </td><td>41.21439                                                  </td><td>US                                                        </td><td>Trump                                                     </td></tr>\n",
       "\t<tr><td>U.S.                                                      </td><td>Ipsos                                                     </td><td>42.02638                                                  </td><td>38.81620                                                  </td><td>US                                                        </td><td>Trump                                                     </td></tr>\n",
       "\t<tr><td>U.S.                                                      </td><td>YouGov                                                    </td><td>45.65676                                                  </td><td>40.92004                                                  </td><td>US                                                        </td><td>Trump                                                     </td></tr>\n",
       "\t<tr><td>U.S.                                                      </td><td>Gravis Marketing                                          </td><td>46.84089                                                  </td><td>42.33184                                                  </td><td>US                                                        </td><td>Trump                                                     </td></tr>\n",
       "\t<tr><td>U.S.                                                          </td><td>Fox News/Anderson Robbins Research/Shaw &amp; Company Research</td><td>49.02208                                                      </td><td>43.95631                                                      </td><td>US                                                            </td><td>Trump                                                         </td></tr>\n",
       "</tbody>\n",
       "</table>\n"
      ],
      "text/latex": [
       "\\begin{tabular}{r|llllll}\n",
       " state & pollster & adjpoll\\_clinton & adjpoll\\_trump & state\\_code & winner\\\\\n",
       "\\hline\n",
       "\t U.S.                                                       & ABC News/Washington Post                                   & 45.20163                                                   & 41.72430                                                   & US                                                         & Trump                                                     \\\\\n",
       "\t U.S.                                                       & Google Consumer Surveys                                    & 43.34557                                                   & 41.21439                                                   & US                                                         & Trump                                                     \\\\\n",
       "\t U.S.                                                       & Ipsos                                                      & 42.02638                                                   & 38.81620                                                   & US                                                         & Trump                                                     \\\\\n",
       "\t U.S.                                                       & YouGov                                                     & 45.65676                                                   & 40.92004                                                   & US                                                         & Trump                                                     \\\\\n",
       "\t U.S.                                                       & Gravis Marketing                                           & 46.84089                                                   & 42.33184                                                   & US                                                         & Trump                                                     \\\\\n",
       "\t U.S.                                                         & Fox News/Anderson Robbins Research/Shaw \\& Company Research & 49.02208                                                     & 43.95631                                                     & US                                                           & Trump                                                       \\\\\n",
       "\\end{tabular}\n"
      ],
      "text/markdown": [
       "\n",
       "| state | pollster | adjpoll_clinton | adjpoll_trump | state_code | winner |\n",
       "|---|---|---|---|---|---|\n",
       "| U.S.                                                       | ABC News/Washington Post                                   | 45.20163                                                   | 41.72430                                                   | US                                                         | Trump                                                      |\n",
       "| U.S.                                                       | Google Consumer Surveys                                    | 43.34557                                                   | 41.21439                                                   | US                                                         | Trump                                                      |\n",
       "| U.S.                                                       | Ipsos                                                      | 42.02638                                                   | 38.81620                                                   | US                                                         | Trump                                                      |\n",
       "| U.S.                                                       | YouGov                                                     | 45.65676                                                   | 40.92004                                                   | US                                                         | Trump                                                      |\n",
       "| U.S.                                                       | Gravis Marketing                                           | 46.84089                                                   | 42.33184                                                   | US                                                         | Trump                                                      |\n",
       "| U.S.                                                       | Fox News/Anderson Robbins Research/Shaw & Company Research | 49.02208                                                   | 43.95631                                                   | US                                                         | Trump                                                      |\n",
       "\n"
      ],
      "text/plain": [
       "  state pollster                                                  \n",
       "1 U.S.  ABC News/Washington Post                                  \n",
       "2 U.S.  Google Consumer Surveys                                   \n",
       "3 U.S.  Ipsos                                                     \n",
       "4 U.S.  YouGov                                                    \n",
       "5 U.S.  Gravis Marketing                                          \n",
       "6 U.S.  Fox News/Anderson Robbins Research/Shaw & Company Research\n",
       "  adjpoll_clinton adjpoll_trump state_code winner\n",
       "1 45.20163        41.72430      US         Trump \n",
       "2 43.34557        41.21439      US         Trump \n",
       "3 42.02638        38.81620      US         Trump \n",
       "4 45.65676        40.92004      US         Trump \n",
       "5 46.84089        42.33184      US         Trump \n",
       "6 49.02208        43.95631      US         Trump "
      ]
     },
     "metadata": {},
     "output_type": "display_data"
    }
   ],
   "source": [
    "polls2016$state_code <- trimws(polls2016$state_code)\n",
    "voteShareByState$state_code <- trimws(voteShareByState$state_code)\n",
    "polls2016$winner  <- voteShareByState$clinton_trump_state[match(polls2016$state_code, voteShareByState$state_code)]\n",
    "head(polls2016)"
   ]
  },
  {
   "cell_type": "markdown",
   "metadata": {},
   "source": [
    "### <font color=#4a4c52>*Populating a new column for winning part and its vote percentage in each state*"
   ]
  },
  {
   "cell_type": "code",
   "execution_count": 20,
   "metadata": {},
   "outputs": [
    {
     "data": {
      "text/html": [
       "<table>\n",
       "<thead><tr><th scope=col>state</th><th scope=col>pollster</th><th scope=col>adjpoll_clinton</th><th scope=col>adjpoll_trump</th><th scope=col>state_code</th><th scope=col>winner</th><th scope=col>winner_party</th><th scope=col>winner_per</th></tr></thead>\n",
       "<tbody>\n",
       "\t<tr><td>U.S.                                                      </td><td>ABC News/Washington Post                                  </td><td>45.20163                                                  </td><td>41.72430                                                  </td><td>US                                                        </td><td>Trump                                                     </td><td>REP                                                       </td><td>41.72430                                                  </td></tr>\n",
       "\t<tr><td>U.S.                                                      </td><td>Google Consumer Surveys                                   </td><td>43.34557                                                  </td><td>41.21439                                                  </td><td>US                                                        </td><td>Trump                                                     </td><td>REP                                                       </td><td>41.21439                                                  </td></tr>\n",
       "\t<tr><td>U.S.                                                      </td><td>Ipsos                                                     </td><td>42.02638                                                  </td><td>38.81620                                                  </td><td>US                                                        </td><td>Trump                                                     </td><td>REP                                                       </td><td>38.81620                                                  </td></tr>\n",
       "\t<tr><td>U.S.                                                      </td><td>YouGov                                                    </td><td>45.65676                                                  </td><td>40.92004                                                  </td><td>US                                                        </td><td>Trump                                                     </td><td>REP                                                       </td><td>40.92004                                                  </td></tr>\n",
       "\t<tr><td>U.S.                                                      </td><td>Gravis Marketing                                          </td><td>46.84089                                                  </td><td>42.33184                                                  </td><td>US                                                        </td><td>Trump                                                     </td><td>REP                                                       </td><td>42.33184                                                  </td></tr>\n",
       "\t<tr><td>U.S.                                                          </td><td>Fox News/Anderson Robbins Research/Shaw &amp; Company Research</td><td>49.02208                                                      </td><td>43.95631                                                      </td><td>US                                                            </td><td>Trump                                                         </td><td>REP                                                           </td><td>43.95631                                                      </td></tr>\n",
       "</tbody>\n",
       "</table>\n"
      ],
      "text/latex": [
       "\\begin{tabular}{r|llllllll}\n",
       " state & pollster & adjpoll\\_clinton & adjpoll\\_trump & state\\_code & winner & winner\\_party & winner\\_per\\\\\n",
       "\\hline\n",
       "\t U.S.                                                       & ABC News/Washington Post                                   & 45.20163                                                   & 41.72430                                                   & US                                                         & Trump                                                      & REP                                                        & 41.72430                                                  \\\\\n",
       "\t U.S.                                                       & Google Consumer Surveys                                    & 43.34557                                                   & 41.21439                                                   & US                                                         & Trump                                                      & REP                                                        & 41.21439                                                  \\\\\n",
       "\t U.S.                                                       & Ipsos                                                      & 42.02638                                                   & 38.81620                                                   & US                                                         & Trump                                                      & REP                                                        & 38.81620                                                  \\\\\n",
       "\t U.S.                                                       & YouGov                                                     & 45.65676                                                   & 40.92004                                                   & US                                                         & Trump                                                      & REP                                                        & 40.92004                                                  \\\\\n",
       "\t U.S.                                                       & Gravis Marketing                                           & 46.84089                                                   & 42.33184                                                   & US                                                         & Trump                                                      & REP                                                        & 42.33184                                                  \\\\\n",
       "\t U.S.                                                         & Fox News/Anderson Robbins Research/Shaw \\& Company Research & 49.02208                                                     & 43.95631                                                     & US                                                           & Trump                                                        & REP                                                          & 43.95631                                                    \\\\\n",
       "\\end{tabular}\n"
      ],
      "text/markdown": [
       "\n",
       "| state | pollster | adjpoll_clinton | adjpoll_trump | state_code | winner | winner_party | winner_per |\n",
       "|---|---|---|---|---|---|---|---|\n",
       "| U.S.                                                       | ABC News/Washington Post                                   | 45.20163                                                   | 41.72430                                                   | US                                                         | Trump                                                      | REP                                                        | 41.72430                                                   |\n",
       "| U.S.                                                       | Google Consumer Surveys                                    | 43.34557                                                   | 41.21439                                                   | US                                                         | Trump                                                      | REP                                                        | 41.21439                                                   |\n",
       "| U.S.                                                       | Ipsos                                                      | 42.02638                                                   | 38.81620                                                   | US                                                         | Trump                                                      | REP                                                        | 38.81620                                                   |\n",
       "| U.S.                                                       | YouGov                                                     | 45.65676                                                   | 40.92004                                                   | US                                                         | Trump                                                      | REP                                                        | 40.92004                                                   |\n",
       "| U.S.                                                       | Gravis Marketing                                           | 46.84089                                                   | 42.33184                                                   | US                                                         | Trump                                                      | REP                                                        | 42.33184                                                   |\n",
       "| U.S.                                                       | Fox News/Anderson Robbins Research/Shaw & Company Research | 49.02208                                                   | 43.95631                                                   | US                                                         | Trump                                                      | REP                                                        | 43.95631                                                   |\n",
       "\n"
      ],
      "text/plain": [
       "  state pollster                                                  \n",
       "1 U.S.  ABC News/Washington Post                                  \n",
       "2 U.S.  Google Consumer Surveys                                   \n",
       "3 U.S.  Ipsos                                                     \n",
       "4 U.S.  YouGov                                                    \n",
       "5 U.S.  Gravis Marketing                                          \n",
       "6 U.S.  Fox News/Anderson Robbins Research/Shaw & Company Research\n",
       "  adjpoll_clinton adjpoll_trump state_code winner winner_party winner_per\n",
       "1 45.20163        41.72430      US         Trump  REP          41.72430  \n",
       "2 43.34557        41.21439      US         Trump  REP          41.21439  \n",
       "3 42.02638        38.81620      US         Trump  REP          38.81620  \n",
       "4 45.65676        40.92004      US         Trump  REP          40.92004  \n",
       "5 46.84089        42.33184      US         Trump  REP          42.33184  \n",
       "6 49.02208        43.95631      US         Trump  REP          43.95631  "
      ]
     },
     "metadata": {},
     "output_type": "display_data"
    }
   ],
   "source": [
    "polls2016$winner_party <- ifelse(polls2016$winner == \"Trump\",\n",
    "                                        \"REP\",\n",
    "                                        \"DEM\")\n",
    "polls2016$winner_per <- ifelse(polls2016$winner == \"Trump\",\n",
    "                                        polls2016$adjpoll_trump,\n",
    "                                        polls2016$adjpoll_clinton)\n",
    "head(polls2016)"
   ]
  },
  {
   "cell_type": "code",
   "execution_count": 21,
   "metadata": {},
   "outputs": [
    {
     "data": {
      "text/plain": [
       "polls2016$winner \n",
       "       n  missing distinct \n",
       "   12624        0        2 \n",
       "                          \n",
       "Value      Clinton   Trump\n",
       "Frequency     3618    9006\n",
       "Proportion   0.287   0.713"
      ]
     },
     "metadata": {},
     "output_type": "display_data"
    },
    {
     "data": {
      "text/plain": [
       "polls2016$winner_party \n",
       "       n  missing distinct \n",
       "   12624        0        2 \n",
       "                      \n",
       "Value        DEM   REP\n",
       "Frequency   3618  9006\n",
       "Proportion 0.287 0.713"
      ]
     },
     "metadata": {},
     "output_type": "display_data"
    },
    {
     "data": {
      "text/plain": [
       "polls2016$winner_per \n",
       "       n  missing distinct     Info     Mean      Gmd      .05      .10 \n",
       "   12624        0    12579        1    46.09     6.66    37.16    39.25 \n",
       "     .25      .50      .75      .90      .95 \n",
       "   42.28    45.17    49.48    53.86    56.94 \n",
       "\n",
       "lowest : 27.68761 27.71060 27.82165 29.71276 29.72806\n",
       "highest: 86.70870 86.71320 86.72195 86.76118 86.77218"
      ]
     },
     "metadata": {},
     "output_type": "display_data"
    }
   ],
   "source": [
    "describe(polls2016$winner)\n",
    "describe(polls2016$winner_party)\n",
    "describe(polls2016$winner_per)"
   ]
  },
  {
   "cell_type": "markdown",
   "metadata": {},
   "source": [
    "### <font color=#4a4c52>*Visualizing density distribution for state-wise vote share for republicans and democrats in 2016 polls*"
   ]
  },
  {
   "cell_type": "code",
   "execution_count": 22,
   "metadata": {},
   "outputs": [
    {
     "data": {
      "image/png": "[encoded data removed]",
      "text/plain": [
       "Plot with title \"2016 Poll's Vote share Density ditribution\""
      ]
     },
     "metadata": {},
     "output_type": "display_data"
    }
   ],
   "source": [
    "plot(density(polls2016$adjpoll_clinton), col = \"blue\", xlab = \"Vote share in percentage\", \n",
    "     main = \"2016 Poll's Vote share Density ditribution\")\n",
    "lines(density(polls2016$adjpoll_trump), col = \"red\")\n",
    "legend(\"topright\", legend=c(\"Democrats\", \"Republican\"),\n",
    "       col=c(\"blue\", \"red\"), lty=1:1, cex=0.8)"
   ]
  },
  {
   "cell_type": "markdown",
   "metadata": {},
   "source": [
    "## <font color=#304073><u><center>Data preparation & Exploratory data analysis on current election poll data</center></u></font>"
   ]
  },
  {
   "cell_type": "markdown",
   "metadata": {},
   "source": [
    "### <font color=#4a4c52>*Loading dataset into dataframe and selecting relevant columns*"
   ]
  },
  {
   "cell_type": "code",
   "execution_count": 23,
   "metadata": {},
   "outputs": [
    {
     "data": {
      "text/html": [
       "<table>\n",
       "<thead><tr><th scope=col>question_id</th><th scope=col>state</th><th scope=col>pollster_id</th><th scope=col>pollster</th><th scope=col>sample_size</th><th scope=col>population</th><th scope=col>methodology</th><th scope=col>created_at</th><th scope=col>answer</th><th scope=col>candidate_name</th><th scope=col>candidate_party</th><th scope=col>pct</th></tr></thead>\n",
       "<tbody>\n",
       "\t<tr><td>113225             </td><td>New Hampshire      </td><td>446                </td><td>St. Anselm         </td><td>512                </td><td>rv                 </td><td>Live Phone         </td><td>11/19/2019 17:41   </td><td>Biden              </td><td>Joseph R. Biden Jr.</td><td>DEM                </td><td>51                 </td></tr>\n",
       "\t<tr><td>113225             </td><td>New Hampshire      </td><td>446                </td><td>St. Anselm         </td><td>512                </td><td>rv                 </td><td>Live Phone         </td><td>11/19/2019 17:41   </td><td>Trump              </td><td>Donald Trump       </td><td>REP                </td><td>43                 </td></tr>\n",
       "\t<tr><td>113226             </td><td>New Hampshire      </td><td>446                </td><td>St. Anselm         </td><td>512                </td><td>rv                 </td><td>Live Phone         </td><td>11/19/2019 17:42   </td><td>Buttigieg          </td><td>Pete Buttigieg     </td><td>DEM                </td><td>49                 </td></tr>\n",
       "\t<tr><td>113226             </td><td>New Hampshire      </td><td>446                </td><td>St. Anselm         </td><td>512                </td><td>rv                 </td><td>Live Phone         </td><td>11/19/2019 17:42   </td><td>Trump              </td><td>Donald Trump       </td><td>REP                </td><td>42                 </td></tr>\n",
       "\t<tr><td>113227             </td><td>New Hampshire      </td><td>446                </td><td>St. Anselm         </td><td>512                </td><td>rv                 </td><td>Live Phone         </td><td>11/19/2019 17:42   </td><td>Sanders            </td><td>Bernard Sanders    </td><td>DEM                </td><td>49                 </td></tr>\n",
       "\t<tr><td>113227             </td><td>New Hampshire      </td><td>446                </td><td>St. Anselm         </td><td>512                </td><td>rv                 </td><td>Live Phone         </td><td>11/19/2019 17:42   </td><td>Trump              </td><td>Donald Trump       </td><td>REP                </td><td>46                 </td></tr>\n",
       "</tbody>\n",
       "</table>\n"
      ],
      "text/latex": [
       "\\begin{tabular}{r|llllllllllll}\n",
       " question\\_id & state & pollster\\_id & pollster & sample\\_size & population & methodology & created\\_at & answer & candidate\\_name & candidate\\_party & pct\\\\\n",
       "\\hline\n",
       "\t 113225              & New Hampshire       & 446                 & St. Anselm          & 512                 & rv                  & Live Phone          & 11/19/2019 17:41    & Biden               & Joseph R. Biden Jr. & DEM                 & 51                 \\\\\n",
       "\t 113225              & New Hampshire       & 446                 & St. Anselm          & 512                 & rv                  & Live Phone          & 11/19/2019 17:41    & Trump               & Donald Trump        & REP                 & 43                 \\\\\n",
       "\t 113226              & New Hampshire       & 446                 & St. Anselm          & 512                 & rv                  & Live Phone          & 11/19/2019 17:42    & Buttigieg           & Pete Buttigieg      & DEM                 & 49                 \\\\\n",
       "\t 113226              & New Hampshire       & 446                 & St. Anselm          & 512                 & rv                  & Live Phone          & 11/19/2019 17:42    & Trump               & Donald Trump        & REP                 & 42                 \\\\\n",
       "\t 113227              & New Hampshire       & 446                 & St. Anselm          & 512                 & rv                  & Live Phone          & 11/19/2019 17:42    & Sanders             & Bernard Sanders     & DEM                 & 49                 \\\\\n",
       "\t 113227              & New Hampshire       & 446                 & St. Anselm          & 512                 & rv                  & Live Phone          & 11/19/2019 17:42    & Trump               & Donald Trump        & REP                 & 46                 \\\\\n",
       "\\end{tabular}\n"
      ],
      "text/markdown": [
       "\n",
       "| question_id | state | pollster_id | pollster | sample_size | population | methodology | created_at | answer | candidate_name | candidate_party | pct |\n",
       "|---|---|---|---|---|---|---|---|---|---|---|---|\n",
       "| 113225              | New Hampshire       | 446                 | St. Anselm          | 512                 | rv                  | Live Phone          | 11/19/2019 17:41    | Biden               | Joseph R. Biden Jr. | DEM                 | 51                  |\n",
       "| 113225              | New Hampshire       | 446                 | St. Anselm          | 512                 | rv                  | Live Phone          | 11/19/2019 17:41    | Trump               | Donald Trump        | REP                 | 43                  |\n",
       "| 113226              | New Hampshire       | 446                 | St. Anselm          | 512                 | rv                  | Live Phone          | 11/19/2019 17:42    | Buttigieg           | Pete Buttigieg      | DEM                 | 49                  |\n",
       "| 113226              | New Hampshire       | 446                 | St. Anselm          | 512                 | rv                  | Live Phone          | 11/19/2019 17:42    | Trump               | Donald Trump        | REP                 | 42                  |\n",
       "| 113227              | New Hampshire       | 446                 | St. Anselm          | 512                 | rv                  | Live Phone          | 11/19/2019 17:42    | Sanders             | Bernard Sanders     | DEM                 | 49                  |\n",
       "| 113227              | New Hampshire       | 446                 | St. Anselm          | 512                 | rv                  | Live Phone          | 11/19/2019 17:42    | Trump               | Donald Trump        | REP                 | 46                  |\n",
       "\n"
      ],
      "text/plain": [
       "  question_id state         pollster_id pollster   sample_size population\n",
       "1 113225      New Hampshire 446         St. Anselm 512         rv        \n",
       "2 113225      New Hampshire 446         St. Anselm 512         rv        \n",
       "3 113226      New Hampshire 446         St. Anselm 512         rv        \n",
       "4 113226      New Hampshire 446         St. Anselm 512         rv        \n",
       "5 113227      New Hampshire 446         St. Anselm 512         rv        \n",
       "6 113227      New Hampshire 446         St. Anselm 512         rv        \n",
       "  methodology created_at       answer    candidate_name      candidate_party\n",
       "1 Live Phone  11/19/2019 17:41 Biden     Joseph R. Biden Jr. DEM            \n",
       "2 Live Phone  11/19/2019 17:41 Trump     Donald Trump        REP            \n",
       "3 Live Phone  11/19/2019 17:42 Buttigieg Pete Buttigieg      DEM            \n",
       "4 Live Phone  11/19/2019 17:42 Trump     Donald Trump        REP            \n",
       "5 Live Phone  11/19/2019 17:42 Sanders   Bernard Sanders     DEM            \n",
       "6 Live Phone  11/19/2019 17:42 Trump     Donald Trump        REP            \n",
       "  pct\n",
       "1 51 \n",
       "2 43 \n",
       "3 49 \n",
       "4 42 \n",
       "5 49 \n",
       "6 46 "
      ]
     },
     "metadata": {},
     "output_type": "display_data"
    }
   ],
   "source": [
    "# Load presidential polls results from csv into dataframe\n",
    "polls <- read.csv(\"president_polls.csv\", header = TRUE, sep = \",\")\n",
    "\n",
    "# Select relevant columns.\n",
    "polls_2020 <- polls[c(\"question_id\",\n",
    "                      \"state\",\n",
    "                      \"pollster_id\",\n",
    "                      \"pollster\",\n",
    "                      \"sample_size\",\n",
    "                      \"population\",\n",
    "                      \"methodology\",\n",
    "                      \"created_at\",\n",
    "                      \"answer\",\n",
    "                      \"candidate_name\",\n",
    "                      \"candidate_party\",\n",
    "                      \"pct\")]\n",
    "\n",
    "# Browse top 5 records\n",
    "head(polls_2020)"
   ]
  },
  {
   "cell_type": "markdown",
   "metadata": {},
   "source": [
    "### <font color=#4a4c52>*Excluding any data besides republican and democrat polls*"
   ]
  },
  {
   "cell_type": "code",
   "execution_count": 24,
   "metadata": {},
   "outputs": [
    {
     "data": {
      "text/plain": [
       "polls_2020$candidate_party \n",
       "       n  missing distinct \n",
       "    2299        0        3 \n",
       "                            \n",
       "Value        DEM   LIB   REP\n",
       "Frequency   1160     9  1130\n",
       "Proportion 0.505 0.004 0.492"
      ]
     },
     "metadata": {},
     "output_type": "display_data"
    }
   ],
   "source": [
    "describe(polls_2020$candidate_party)"
   ]
  },
  {
   "cell_type": "code",
   "execution_count": 25,
   "metadata": {},
   "outputs": [
    {
     "data": {
      "text/html": [
       "<table>\n",
       "<thead><tr><th scope=col>question_id</th><th scope=col>state</th><th scope=col>pollster</th><th scope=col>candidate_party</th><th scope=col>per_share</th></tr></thead>\n",
       "<tbody>\n",
       "\t<tr><td>92078                                   </td><td>                                        </td><td>Rasmussen Reports/Pulse Opinion Research</td><td>DEM                                     </td><td>50                                      </td></tr>\n",
       "\t<tr><td>92078                                   </td><td>                                        </td><td>Rasmussen Reports/Pulse Opinion Research</td><td>REP                                     </td><td>43                                      </td></tr>\n",
       "\t<tr><td>92079                                   </td><td>Ohio                                    </td><td>Public Policy Polling                   </td><td>DEM                                     </td><td>48                                      </td></tr>\n",
       "\t<tr><td>92079                                   </td><td>Ohio                                    </td><td>Public Policy Polling                   </td><td>REP                                     </td><td>42                                      </td></tr>\n",
       "\t<tr><td>92080                                   </td><td>Ohio                                    </td><td>Public Policy Polling                   </td><td>DEM                                     </td><td>48                                      </td></tr>\n",
       "\t<tr><td>92080                                   </td><td>Ohio                                    </td><td>Public Policy Polling                   </td><td>REP                                     </td><td>44                                      </td></tr>\n",
       "</tbody>\n",
       "</table>\n"
      ],
      "text/latex": [
       "\\begin{tabular}{r|lllll}\n",
       " question\\_id & state & pollster & candidate\\_party & per\\_share\\\\\n",
       "\\hline\n",
       "\t 92078                                    &                                          & Rasmussen Reports/Pulse Opinion Research & DEM                                      & 50                                      \\\\\n",
       "\t 92078                                    &                                          & Rasmussen Reports/Pulse Opinion Research & REP                                      & 43                                      \\\\\n",
       "\t 92079                                    & Ohio                                     & Public Policy Polling                    & DEM                                      & 48                                      \\\\\n",
       "\t 92079                                    & Ohio                                     & Public Policy Polling                    & REP                                      & 42                                      \\\\\n",
       "\t 92080                                    & Ohio                                     & Public Policy Polling                    & DEM                                      & 48                                      \\\\\n",
       "\t 92080                                    & Ohio                                     & Public Policy Polling                    & REP                                      & 44                                      \\\\\n",
       "\\end{tabular}\n"
      ],
      "text/markdown": [
       "\n",
       "| question_id | state | pollster | candidate_party | per_share |\n",
       "|---|---|---|---|---|\n",
       "| 92078                                    |                                          | Rasmussen Reports/Pulse Opinion Research | DEM                                      | 50                                       |\n",
       "| 92078                                    |                                          | Rasmussen Reports/Pulse Opinion Research | REP                                      | 43                                       |\n",
       "| 92079                                    | Ohio                                     | Public Policy Polling                    | DEM                                      | 48                                       |\n",
       "| 92079                                    | Ohio                                     | Public Policy Polling                    | REP                                      | 42                                       |\n",
       "| 92080                                    | Ohio                                     | Public Policy Polling                    | DEM                                      | 48                                       |\n",
       "| 92080                                    | Ohio                                     | Public Policy Polling                    | REP                                      | 44                                       |\n",
       "\n"
      ],
      "text/plain": [
       "  question_id state pollster                                 candidate_party\n",
       "1 92078             Rasmussen Reports/Pulse Opinion Research DEM            \n",
       "2 92078             Rasmussen Reports/Pulse Opinion Research REP            \n",
       "3 92079       Ohio  Public Policy Polling                    DEM            \n",
       "4 92079       Ohio  Public Policy Polling                    REP            \n",
       "5 92080       Ohio  Public Policy Polling                    DEM            \n",
       "6 92080       Ohio  Public Policy Polling                    REP            \n",
       "  per_share\n",
       "1 50       \n",
       "2 43       \n",
       "3 48       \n",
       "4 42       \n",
       "5 48       \n",
       "6 44       "
      ]
     },
     "metadata": {},
     "output_type": "display_data"
    }
   ],
   "source": [
    "polls_2020 <- polls_2020 %>%\n",
    "                filter(candidate_party != \"LIB\") %>%\n",
    "                group_by(question_id, state, pollster, candidate_party) %>%\n",
    "                    summarise(per_share = sum(pct))\n",
    "head(polls_2020)"
   ]
  },
  {
   "cell_type": "markdown",
   "metadata": {},
   "source": [
    "### <font color=#4a4c52>*Replacing blanks in state column with US*"
   ]
  },
  {
   "cell_type": "code",
   "execution_count": 26,
   "metadata": {},
   "outputs": [
    {
     "data": {
      "text/html": [
       "<table>\n",
       "<thead><tr><th scope=col>question_id</th><th scope=col>state</th><th scope=col>pollster</th><th scope=col>candidate_party</th><th scope=col>per_share</th></tr></thead>\n",
       "<tbody>\n",
       "\t<tr><td>92078                                   </td><td>US                                      </td><td>Rasmussen Reports/Pulse Opinion Research</td><td>DEM                                     </td><td>50                                      </td></tr>\n",
       "\t<tr><td>92078                                   </td><td>US                                      </td><td>Rasmussen Reports/Pulse Opinion Research</td><td>REP                                     </td><td>43                                      </td></tr>\n",
       "\t<tr><td>92079                                   </td><td>Ohio                                    </td><td>Public Policy Polling                   </td><td>DEM                                     </td><td>48                                      </td></tr>\n",
       "\t<tr><td>92079                                   </td><td>Ohio                                    </td><td>Public Policy Polling                   </td><td>REP                                     </td><td>42                                      </td></tr>\n",
       "\t<tr><td>92080                                   </td><td>Ohio                                    </td><td>Public Policy Polling                   </td><td>DEM                                     </td><td>48                                      </td></tr>\n",
       "\t<tr><td>92080                                   </td><td>Ohio                                    </td><td>Public Policy Polling                   </td><td>REP                                     </td><td>44                                      </td></tr>\n",
       "</tbody>\n",
       "</table>\n"
      ],
      "text/latex": [
       "\\begin{tabular}{r|lllll}\n",
       " question\\_id & state & pollster & candidate\\_party & per\\_share\\\\\n",
       "\\hline\n",
       "\t 92078                                    & US                                       & Rasmussen Reports/Pulse Opinion Research & DEM                                      & 50                                      \\\\\n",
       "\t 92078                                    & US                                       & Rasmussen Reports/Pulse Opinion Research & REP                                      & 43                                      \\\\\n",
       "\t 92079                                    & Ohio                                     & Public Policy Polling                    & DEM                                      & 48                                      \\\\\n",
       "\t 92079                                    & Ohio                                     & Public Policy Polling                    & REP                                      & 42                                      \\\\\n",
       "\t 92080                                    & Ohio                                     & Public Policy Polling                    & DEM                                      & 48                                      \\\\\n",
       "\t 92080                                    & Ohio                                     & Public Policy Polling                    & REP                                      & 44                                      \\\\\n",
       "\\end{tabular}\n"
      ],
      "text/markdown": [
       "\n",
       "| question_id | state | pollster | candidate_party | per_share |\n",
       "|---|---|---|---|---|\n",
       "| 92078                                    | US                                       | Rasmussen Reports/Pulse Opinion Research | DEM                                      | 50                                       |\n",
       "| 92078                                    | US                                       | Rasmussen Reports/Pulse Opinion Research | REP                                      | 43                                       |\n",
       "| 92079                                    | Ohio                                     | Public Policy Polling                    | DEM                                      | 48                                       |\n",
       "| 92079                                    | Ohio                                     | Public Policy Polling                    | REP                                      | 42                                       |\n",
       "| 92080                                    | Ohio                                     | Public Policy Polling                    | DEM                                      | 48                                       |\n",
       "| 92080                                    | Ohio                                     | Public Policy Polling                    | REP                                      | 44                                       |\n",
       "\n"
      ],
      "text/plain": [
       "  question_id state pollster                                 candidate_party\n",
       "1 92078       US    Rasmussen Reports/Pulse Opinion Research DEM            \n",
       "2 92078       US    Rasmussen Reports/Pulse Opinion Research REP            \n",
       "3 92079       Ohio  Public Policy Polling                    DEM            \n",
       "4 92079       Ohio  Public Policy Polling                    REP            \n",
       "5 92080       Ohio  Public Policy Polling                    DEM            \n",
       "6 92080       Ohio  Public Policy Polling                    REP            \n",
       "  per_share\n",
       "1 50       \n",
       "2 43       \n",
       "3 48       \n",
       "4 42       \n",
       "5 48       \n",
       "6 44       "
      ]
     },
     "metadata": {},
     "output_type": "display_data"
    }
   ],
   "source": [
    "polls_2020$state <- sub(\"^$\", \"US\", polls_2020$state)\n",
    "head(polls_2020)"
   ]
  },
  {
   "cell_type": "markdown",
   "metadata": {},
   "source": [
    "### <font color=#4a4c52>*Widen the data frame to match format with 2016 poll dataset*"
   ]
  },
  {
   "cell_type": "code",
   "execution_count": 27,
   "metadata": {},
   "outputs": [
    {
     "data": {
      "text/html": [
       "<table>\n",
       "<thead><tr><th scope=col>question_id</th><th scope=col>state</th><th scope=col>pollster</th><th scope=col>DEM</th><th scope=col>REP</th></tr></thead>\n",
       "<tbody>\n",
       "\t<tr><td>92078                                   </td><td>US                                      </td><td>Rasmussen Reports/Pulse Opinion Research</td><td>50                                      </td><td>43                                      </td></tr>\n",
       "\t<tr><td>92079                                   </td><td>Ohio                                    </td><td>Public Policy Polling                   </td><td>48                                      </td><td>42                                      </td></tr>\n",
       "\t<tr><td>92080                                   </td><td>Ohio                                    </td><td>Public Policy Polling                   </td><td>48                                      </td><td>44                                      </td></tr>\n",
       "\t<tr><td>92081                                   </td><td>Ohio                                    </td><td>Public Policy Polling                   </td><td>47                                      </td><td>46                                      </td></tr>\n",
       "\t<tr><td>92082                                   </td><td>Ohio                                    </td><td>Public Policy Polling                   </td><td>43                                      </td><td>49                                      </td></tr>\n",
       "\t<tr><td>92351                                                                               </td><td><span style=white-space:pre-wrap>US  </span>                                        </td><td><span style=white-space:pre-wrap>Harris Insights &amp; Analytics             </span></td><td>42                                                                                  </td><td>36                                                                                  </td></tr>\n",
       "</tbody>\n",
       "</table>\n"
      ],
      "text/latex": [
       "\\begin{tabular}{r|lllll}\n",
       " question\\_id & state & pollster & DEM & REP\\\\\n",
       "\\hline\n",
       "\t 92078                                    & US                                       & Rasmussen Reports/Pulse Opinion Research & 50                                       & 43                                      \\\\\n",
       "\t 92079                                    & Ohio                                     & Public Policy Polling                    & 48                                       & 42                                      \\\\\n",
       "\t 92080                                    & Ohio                                     & Public Policy Polling                    & 48                                       & 44                                      \\\\\n",
       "\t 92081                                    & Ohio                                     & Public Policy Polling                    & 47                                       & 46                                      \\\\\n",
       "\t 92082                                    & Ohio                                     & Public Policy Polling                    & 43                                       & 49                                      \\\\\n",
       "\t 92351                                      & US                                         & Harris Insights \\& Analytics              & 42                                         & 36                                        \\\\\n",
       "\\end{tabular}\n"
      ],
      "text/markdown": [
       "\n",
       "| question_id | state | pollster | DEM | REP |\n",
       "|---|---|---|---|---|\n",
       "| 92078                                    | US                                       | Rasmussen Reports/Pulse Opinion Research | 50                                       | 43                                       |\n",
       "| 92079                                    | Ohio                                     | Public Policy Polling                    | 48                                       | 42                                       |\n",
       "| 92080                                    | Ohio                                     | Public Policy Polling                    | 48                                       | 44                                       |\n",
       "| 92081                                    | Ohio                                     | Public Policy Polling                    | 47                                       | 46                                       |\n",
       "| 92082                                    | Ohio                                     | Public Policy Polling                    | 43                                       | 49                                       |\n",
       "| 92351                                    | US                                       | Harris Insights & Analytics              | 42                                       | 36                                       |\n",
       "\n"
      ],
      "text/plain": [
       "  question_id state pollster                                 DEM REP\n",
       "1 92078       US    Rasmussen Reports/Pulse Opinion Research 50  43 \n",
       "2 92079       Ohio  Public Policy Polling                    48  42 \n",
       "3 92080       Ohio  Public Policy Polling                    48  44 \n",
       "4 92081       Ohio  Public Policy Polling                    47  46 \n",
       "5 92082       Ohio  Public Policy Polling                    43  49 \n",
       "6 92351       US    Harris Insights & Analytics              42  36 "
      ]
     },
     "metadata": {},
     "output_type": "display_data"
    }
   ],
   "source": [
    "polls_2020 <- dcast(polls_2020, question_id+state+pollster~candidate_party, value.var = \"per_share\")\n",
    "head(polls_2020)"
   ]
  },
  {
   "cell_type": "markdown",
   "metadata": {},
   "source": [
    "### <font color=#4a4c52>*Adding a new column for state code*"
   ]
  },
  {
   "cell_type": "code",
   "execution_count": 28,
   "metadata": {},
   "outputs": [
    {
     "data": {
      "text/plain": [
       "polls_2020$state_code \n",
       "       n  missing distinct \n",
       "     563      567       28 \n",
       "\n",
       "lowest : AK AZ CA CO CT, highest: TX UT VA WA WI"
      ]
     },
     "metadata": {},
     "output_type": "display_data"
    }
   ],
   "source": [
    "# Adding a new column for state code\n",
    "polls_2020$state_code  <- state.abb[match(polls_2020$state, state.name)]\n",
    "describe(polls_2020$state_code)"
   ]
  },
  {
   "cell_type": "markdown",
   "metadata": {},
   "source": [
    "### <font color=#4a4c52>*Identify any states that were not translated to correct code*"
   ]
  },
  {
   "cell_type": "code",
   "execution_count": 29,
   "metadata": {},
   "outputs": [
    {
     "data": {
      "text/html": [
       "<table>\n",
       "<thead><tr><th scope=col>Var1</th><th scope=col>Freq</th></tr></thead>\n",
       "<tbody>\n",
       "\t<tr><td>Maine CD-1</td><td>  5       </td></tr>\n",
       "\t<tr><td>Maine CD-2</td><td>  5       </td></tr>\n",
       "\t<tr><td>US        </td><td>557       </td></tr>\n",
       "</tbody>\n",
       "</table>\n"
      ],
      "text/latex": [
       "\\begin{tabular}{r|ll}\n",
       " Var1 & Freq\\\\\n",
       "\\hline\n",
       "\t Maine CD-1 &   5       \\\\\n",
       "\t Maine CD-2 &   5       \\\\\n",
       "\t US         & 557       \\\\\n",
       "\\end{tabular}\n"
      ],
      "text/markdown": [
       "\n",
       "| Var1 | Freq |\n",
       "|---|---|\n",
       "| Maine CD-1 |   5        |\n",
       "| Maine CD-2 |   5        |\n",
       "| US         | 557        |\n",
       "\n"
      ],
      "text/plain": [
       "  Var1       Freq\n",
       "1 Maine CD-1   5 \n",
       "2 Maine CD-2   5 \n",
       "3 US         557 "
      ]
     },
     "metadata": {},
     "output_type": "display_data"
    }
   ],
   "source": [
    "poll2020_missingStateCode <- polls_2020[c(\"state\",\"state_code\")] %>%\n",
    "                                filter_all(any_vars(is.na(.)))\n",
    "poll2020_missingStateCodeFreq <- as.data.frame(table(poll2020_missingStateCode$state))\n",
    "poll2020_missingStateCodeFreq[poll2020_missingStateCodeFreq$Freq > 1, ]"
   ]
  },
  {
   "cell_type": "code",
   "execution_count": 30,
   "metadata": {},
   "outputs": [
    {
     "data": {
      "text/plain": [
       "polls_2020$state_code \n",
       "       n  missing distinct \n",
       "    1130        0       29 \n",
       "\n",
       "lowest : AK AZ CA CO CT, highest: US UT VA WA WI"
      ]
     },
     "metadata": {},
     "output_type": "display_data"
    }
   ],
   "source": [
    "# Replacing \"U.S.\" with \"US\"\n",
    "polls_2020$state_code[polls_2020$state == \"US\"]  <- \"US\"\n",
    "polls_2020$state_code[polls_2020$state == \"Maine CD-1\"]  <- \"ME\"\n",
    "polls_2020$state_code[polls_2020$state == \"Maine CD-2\"]  <- \"ME\"\n",
    "describe(polls_2020$state_code)"
   ]
  },
  {
   "cell_type": "code",
   "execution_count": 31,
   "metadata": {},
   "outputs": [
    {
     "data": {
      "text/html": [
       "<table>\n",
       "<thead><tr><th scope=col>question_id</th><th scope=col>state</th><th scope=col>pollster</th><th scope=col>DEM</th><th scope=col>REP</th><th scope=col>state_code</th></tr></thead>\n",
       "<tbody>\n",
       "\t<tr><td>92078                                   </td><td>US                                      </td><td>Rasmussen Reports/Pulse Opinion Research</td><td>50                                      </td><td>43                                      </td><td>US                                      </td></tr>\n",
       "\t<tr><td>92079                                   </td><td>Ohio                                    </td><td>Public Policy Polling                   </td><td>48                                      </td><td>42                                      </td><td>OH                                      </td></tr>\n",
       "\t<tr><td>92080                                   </td><td>Ohio                                    </td><td>Public Policy Polling                   </td><td>48                                      </td><td>44                                      </td><td>OH                                      </td></tr>\n",
       "\t<tr><td>92081                                   </td><td>Ohio                                    </td><td>Public Policy Polling                   </td><td>47                                      </td><td>46                                      </td><td>OH                                      </td></tr>\n",
       "\t<tr><td>92082                                   </td><td>Ohio                                    </td><td>Public Policy Polling                   </td><td>43                                      </td><td>49                                      </td><td>OH                                      </td></tr>\n",
       "\t<tr><td>92351                                                                               </td><td><span style=white-space:pre-wrap>US  </span>                                        </td><td><span style=white-space:pre-wrap>Harris Insights &amp; Analytics             </span></td><td>42                                                                                  </td><td>36                                                                                  </td><td>US                                                                                  </td></tr>\n",
       "</tbody>\n",
       "</table>\n"
      ],
      "text/latex": [
       "\\begin{tabular}{r|llllll}\n",
       " question\\_id & state & pollster & DEM & REP & state\\_code\\\\\n",
       "\\hline\n",
       "\t 92078                                    & US                                       & Rasmussen Reports/Pulse Opinion Research & 50                                       & 43                                       & US                                      \\\\\n",
       "\t 92079                                    & Ohio                                     & Public Policy Polling                    & 48                                       & 42                                       & OH                                      \\\\\n",
       "\t 92080                                    & Ohio                                     & Public Policy Polling                    & 48                                       & 44                                       & OH                                      \\\\\n",
       "\t 92081                                    & Ohio                                     & Public Policy Polling                    & 47                                       & 46                                       & OH                                      \\\\\n",
       "\t 92082                                    & Ohio                                     & Public Policy Polling                    & 43                                       & 49                                       & OH                                      \\\\\n",
       "\t 92351                                      & US                                         & Harris Insights \\& Analytics              & 42                                         & 36                                         & US                                        \\\\\n",
       "\\end{tabular}\n"
      ],
      "text/markdown": [
       "\n",
       "| question_id | state | pollster | DEM | REP | state_code |\n",
       "|---|---|---|---|---|---|\n",
       "| 92078                                    | US                                       | Rasmussen Reports/Pulse Opinion Research | 50                                       | 43                                       | US                                       |\n",
       "| 92079                                    | Ohio                                     | Public Policy Polling                    | 48                                       | 42                                       | OH                                       |\n",
       "| 92080                                    | Ohio                                     | Public Policy Polling                    | 48                                       | 44                                       | OH                                       |\n",
       "| 92081                                    | Ohio                                     | Public Policy Polling                    | 47                                       | 46                                       | OH                                       |\n",
       "| 92082                                    | Ohio                                     | Public Policy Polling                    | 43                                       | 49                                       | OH                                       |\n",
       "| 92351                                    | US                                       | Harris Insights & Analytics              | 42                                       | 36                                       | US                                       |\n",
       "\n"
      ],
      "text/plain": [
       "  question_id state pollster                                 DEM REP state_code\n",
       "1 92078       US    Rasmussen Reports/Pulse Opinion Research 50  43  US        \n",
       "2 92079       Ohio  Public Policy Polling                    48  42  OH        \n",
       "3 92080       Ohio  Public Policy Polling                    48  44  OH        \n",
       "4 92081       Ohio  Public Policy Polling                    47  46  OH        \n",
       "5 92082       Ohio  Public Policy Polling                    43  49  OH        \n",
       "6 92351       US    Harris Insights & Analytics              42  36  US        "
      ]
     },
     "metadata": {},
     "output_type": "display_data"
    }
   ],
   "source": [
    "head(polls_2020)"
   ]
  },
  {
   "cell_type": "markdown",
   "metadata": {},
   "source": [
    "### <font color=#4a4c52>*Adding new columns for 2016 winning candidate and party for state*"
   ]
  },
  {
   "cell_type": "code",
   "execution_count": 32,
   "metadata": {},
   "outputs": [
    {
     "data": {
      "text/html": [
       "<table>\n",
       "<thead><tr><th scope=col>question_id</th><th scope=col>state</th><th scope=col>pollster</th><th scope=col>DEM</th><th scope=col>REP</th><th scope=col>state_code</th><th scope=col>winner2016</th><th scope=col>winning_party2016</th></tr></thead>\n",
       "<tbody>\n",
       "\t<tr><td>92078                                   </td><td>US                                      </td><td>Rasmussen Reports/Pulse Opinion Research</td><td>50                                      </td><td>43                                      </td><td>US                                      </td><td>Trump                                   </td><td>REP                                     </td></tr>\n",
       "\t<tr><td>92079                                   </td><td>Ohio                                    </td><td>Public Policy Polling                   </td><td>48                                      </td><td>42                                      </td><td>OH                                      </td><td>Trump                                   </td><td>REP                                     </td></tr>\n",
       "\t<tr><td>92080                                   </td><td>Ohio                                    </td><td>Public Policy Polling                   </td><td>48                                      </td><td>44                                      </td><td>OH                                      </td><td>Trump                                   </td><td>REP                                     </td></tr>\n",
       "\t<tr><td>92081                                   </td><td>Ohio                                    </td><td>Public Policy Polling                   </td><td>47                                      </td><td>46                                      </td><td>OH                                      </td><td>Trump                                   </td><td>REP                                     </td></tr>\n",
       "\t<tr><td>92082                                   </td><td>Ohio                                    </td><td>Public Policy Polling                   </td><td>43                                      </td><td>49                                      </td><td>OH                                      </td><td>Trump                                   </td><td>REP                                     </td></tr>\n",
       "\t<tr><td>92351                                                                               </td><td><span style=white-space:pre-wrap>US  </span>                                        </td><td><span style=white-space:pre-wrap>Harris Insights &amp; Analytics             </span></td><td>42                                                                                  </td><td>36                                                                                  </td><td>US                                                                                  </td><td>Trump                                                                               </td><td>REP                                                                                 </td></tr>\n",
       "</tbody>\n",
       "</table>\n"
      ],
      "text/latex": [
       "\\begin{tabular}{r|llllllll}\n",
       " question\\_id & state & pollster & DEM & REP & state\\_code & winner2016 & winning\\_party2016\\\\\n",
       "\\hline\n",
       "\t 92078                                    & US                                       & Rasmussen Reports/Pulse Opinion Research & 50                                       & 43                                       & US                                       & Trump                                    & REP                                     \\\\\n",
       "\t 92079                                    & Ohio                                     & Public Policy Polling                    & 48                                       & 42                                       & OH                                       & Trump                                    & REP                                     \\\\\n",
       "\t 92080                                    & Ohio                                     & Public Policy Polling                    & 48                                       & 44                                       & OH                                       & Trump                                    & REP                                     \\\\\n",
       "\t 92081                                    & Ohio                                     & Public Policy Polling                    & 47                                       & 46                                       & OH                                       & Trump                                    & REP                                     \\\\\n",
       "\t 92082                                    & Ohio                                     & Public Policy Polling                    & 43                                       & 49                                       & OH                                       & Trump                                    & REP                                     \\\\\n",
       "\t 92351                                      & US                                         & Harris Insights \\& Analytics              & 42                                         & 36                                         & US                                         & Trump                                      & REP                                       \\\\\n",
       "\\end{tabular}\n"
      ],
      "text/markdown": [
       "\n",
       "| question_id | state | pollster | DEM | REP | state_code | winner2016 | winning_party2016 |\n",
       "|---|---|---|---|---|---|---|---|\n",
       "| 92078                                    | US                                       | Rasmussen Reports/Pulse Opinion Research | 50                                       | 43                                       | US                                       | Trump                                    | REP                                      |\n",
       "| 92079                                    | Ohio                                     | Public Policy Polling                    | 48                                       | 42                                       | OH                                       | Trump                                    | REP                                      |\n",
       "| 92080                                    | Ohio                                     | Public Policy Polling                    | 48                                       | 44                                       | OH                                       | Trump                                    | REP                                      |\n",
       "| 92081                                    | Ohio                                     | Public Policy Polling                    | 47                                       | 46                                       | OH                                       | Trump                                    | REP                                      |\n",
       "| 92082                                    | Ohio                                     | Public Policy Polling                    | 43                                       | 49                                       | OH                                       | Trump                                    | REP                                      |\n",
       "| 92351                                    | US                                       | Harris Insights & Analytics              | 42                                       | 36                                       | US                                       | Trump                                    | REP                                      |\n",
       "\n"
      ],
      "text/plain": [
       "  question_id state pollster                                 DEM REP state_code\n",
       "1 92078       US    Rasmussen Reports/Pulse Opinion Research 50  43  US        \n",
       "2 92079       Ohio  Public Policy Polling                    48  42  OH        \n",
       "3 92080       Ohio  Public Policy Polling                    48  44  OH        \n",
       "4 92081       Ohio  Public Policy Polling                    47  46  OH        \n",
       "5 92082       Ohio  Public Policy Polling                    43  49  OH        \n",
       "6 92351       US    Harris Insights & Analytics              42  36  US        \n",
       "  winner2016 winning_party2016\n",
       "1 Trump      REP              \n",
       "2 Trump      REP              \n",
       "3 Trump      REP              \n",
       "4 Trump      REP              \n",
       "5 Trump      REP              \n",
       "6 Trump      REP              "
      ]
     },
     "metadata": {},
     "output_type": "display_data"
    }
   ],
   "source": [
    "polls_2020$winner2016  <- voteShareByState$clinton_trump_state[match(polls_2020$state_code, voteShareByState$state_code)]\n",
    "polls_2020$winning_party2016 <- ifelse(polls_2020$winner2016 == \"Trump\",\n",
    "                                        \"REP\",\n",
    "                                        \"DEM\")\n",
    "head(polls_2020)"
   ]
  },
  {
   "cell_type": "markdown",
   "metadata": {},
   "source": [
    "### <font color=#4a4c52>*Identifying states with poll data from both 2016 and current polls.*"
   ]
  },
  {
   "cell_type": "code",
   "execution_count": 33,
   "metadata": {},
   "outputs": [
    {
     "data": {
      "text/plain": [
       "statesChosen$state \n",
       "       n  missing distinct \n",
       "      28        1       28 \n",
       "\n",
       "lowest : Alaska      Arizona     California  Colorado    Connecticut\n",
       "highest: Texas       Utah        Virginia    Washington  Wisconsin  "
      ]
     },
     "metadata": {},
     "output_type": "display_data"
    },
    {
     "data": {
      "text/html": [
       "<table>\n",
       "<thead><tr><th scope=col>state_code</th><th scope=col>state</th></tr></thead>\n",
       "<tbody>\n",
       "\t<tr><td>US            </td><td>NA            </td></tr>\n",
       "\t<tr><td>OH            </td><td>Ohio          </td></tr>\n",
       "\t<tr><td>NC            </td><td>North Carolina</td></tr>\n",
       "\t<tr><td>NH            </td><td>New Hampshire </td></tr>\n",
       "\t<tr><td>TX            </td><td>Texas         </td></tr>\n",
       "\t<tr><td>MI            </td><td>Michigan      </td></tr>\n",
       "</tbody>\n",
       "</table>\n"
      ],
      "text/latex": [
       "\\begin{tabular}{r|ll}\n",
       " state\\_code & state\\\\\n",
       "\\hline\n",
       "\t US             & NA            \\\\\n",
       "\t OH             & Ohio          \\\\\n",
       "\t NC             & North Carolina\\\\\n",
       "\t NH             & New Hampshire \\\\\n",
       "\t TX             & Texas         \\\\\n",
       "\t MI             & Michigan      \\\\\n",
       "\\end{tabular}\n"
      ],
      "text/markdown": [
       "\n",
       "| state_code | state |\n",
       "|---|---|\n",
       "| US             | NA             |\n",
       "| OH             | Ohio           |\n",
       "| NC             | North Carolina |\n",
       "| NH             | New Hampshire  |\n",
       "| TX             | Texas          |\n",
       "| MI             | Michigan       |\n",
       "\n"
      ],
      "text/plain": [
       "  state_code state         \n",
       "1 US         NA            \n",
       "2 OH         Ohio          \n",
       "3 NC         North Carolina\n",
       "4 NH         New Hampshire \n",
       "5 TX         Texas         \n",
       "6 MI         Michigan      "
      ]
     },
     "metadata": {},
     "output_type": "display_data"
    }
   ],
   "source": [
    "statesChosen <- as.data.frame(intersect(polls_2020$state_code, polls2016$state_code))\n",
    "colnames(statesChosen) <- c(\"state_code\")\n",
    "# Adding a new column for state code\n",
    "statesChosen$state  <- state.name[match(statesChosen$state_code, state.abb)]\n",
    "describe(statesChosen$state)\n",
    "head(statesChosen)"
   ]
  },
  {
   "cell_type": "code",
   "execution_count": 34,
   "metadata": {},
   "outputs": [
    {
     "data": {
      "text/plain": [
       "statesChosen$state \n",
       "       n  missing distinct \n",
       "      29        0       29 \n",
       "\n",
       "lowest : Alaska     All States Arizona    California Colorado  \n",
       "highest: Texas      Utah       Virginia   Washington Wisconsin "
      ]
     },
     "metadata": {},
     "output_type": "display_data"
    },
    {
     "data": {
      "text/html": [
       "<table>\n",
       "<thead><tr><th scope=col>state_code</th><th scope=col>state</th></tr></thead>\n",
       "<tbody>\n",
       "\t<tr><td>US            </td><td>All States    </td></tr>\n",
       "\t<tr><td>OH            </td><td>Ohio          </td></tr>\n",
       "\t<tr><td>NC            </td><td>North Carolina</td></tr>\n",
       "\t<tr><td>NH            </td><td>New Hampshire </td></tr>\n",
       "\t<tr><td>TX            </td><td>Texas         </td></tr>\n",
       "\t<tr><td>MI            </td><td>Michigan      </td></tr>\n",
       "\t<tr><td>IA            </td><td>Iowa          </td></tr>\n",
       "\t<tr><td>AZ            </td><td>Arizona       </td></tr>\n",
       "\t<tr><td>SC            </td><td>South Carolina</td></tr>\n",
       "\t<tr><td>MN            </td><td>Minnesota     </td></tr>\n",
       "\t<tr><td>WI            </td><td>Wisconsin     </td></tr>\n",
       "\t<tr><td>PA            </td><td>Pennsylvania  </td></tr>\n",
       "\t<tr><td>NV            </td><td>Nevada        </td></tr>\n",
       "\t<tr><td>MA            </td><td>Massachusetts </td></tr>\n",
       "\t<tr><td>FL            </td><td>Florida       </td></tr>\n",
       "\t<tr><td>NY            </td><td>New York      </td></tr>\n",
       "\t<tr><td>KY            </td><td>Kentucky      </td></tr>\n",
       "\t<tr><td>ME            </td><td>Maine         </td></tr>\n",
       "\t<tr><td>ND            </td><td>North Dakota  </td></tr>\n",
       "\t<tr><td>CA            </td><td>California    </td></tr>\n",
       "\t<tr><td>WA            </td><td>Washington    </td></tr>\n",
       "\t<tr><td>AK            </td><td>Alaska        </td></tr>\n",
       "\t<tr><td>CO            </td><td>Colorado      </td></tr>\n",
       "\t<tr><td>MO            </td><td>Missouri      </td></tr>\n",
       "\t<tr><td>UT            </td><td>Utah          </td></tr>\n",
       "\t<tr><td>VA            </td><td>Virginia      </td></tr>\n",
       "\t<tr><td>MT            </td><td>Montana       </td></tr>\n",
       "\t<tr><td>CT            </td><td>Connecticut   </td></tr>\n",
       "\t<tr><td>GA            </td><td>Georgia       </td></tr>\n",
       "</tbody>\n",
       "</table>\n"
      ],
      "text/latex": [
       "\\begin{tabular}{r|ll}\n",
       " state\\_code & state\\\\\n",
       "\\hline\n",
       "\t US             & All States    \\\\\n",
       "\t OH             & Ohio          \\\\\n",
       "\t NC             & North Carolina\\\\\n",
       "\t NH             & New Hampshire \\\\\n",
       "\t TX             & Texas         \\\\\n",
       "\t MI             & Michigan      \\\\\n",
       "\t IA             & Iowa          \\\\\n",
       "\t AZ             & Arizona       \\\\\n",
       "\t SC             & South Carolina\\\\\n",
       "\t MN             & Minnesota     \\\\\n",
       "\t WI             & Wisconsin     \\\\\n",
       "\t PA             & Pennsylvania  \\\\\n",
       "\t NV             & Nevada        \\\\\n",
       "\t MA             & Massachusetts \\\\\n",
       "\t FL             & Florida       \\\\\n",
       "\t NY             & New York      \\\\\n",
       "\t KY             & Kentucky      \\\\\n",
       "\t ME             & Maine         \\\\\n",
       "\t ND             & North Dakota  \\\\\n",
       "\t CA             & California    \\\\\n",
       "\t WA             & Washington    \\\\\n",
       "\t AK             & Alaska        \\\\\n",
       "\t CO             & Colorado      \\\\\n",
       "\t MO             & Missouri      \\\\\n",
       "\t UT             & Utah          \\\\\n",
       "\t VA             & Virginia      \\\\\n",
       "\t MT             & Montana       \\\\\n",
       "\t CT             & Connecticut   \\\\\n",
       "\t GA             & Georgia       \\\\\n",
       "\\end{tabular}\n"
      ],
      "text/markdown": [
       "\n",
       "| state_code | state |\n",
       "|---|---|\n",
       "| US             | All States     |\n",
       "| OH             | Ohio           |\n",
       "| NC             | North Carolina |\n",
       "| NH             | New Hampshire  |\n",
       "| TX             | Texas          |\n",
       "| MI             | Michigan       |\n",
       "| IA             | Iowa           |\n",
       "| AZ             | Arizona        |\n",
       "| SC             | South Carolina |\n",
       "| MN             | Minnesota      |\n",
       "| WI             | Wisconsin      |\n",
       "| PA             | Pennsylvania   |\n",
       "| NV             | Nevada         |\n",
       "| MA             | Massachusetts  |\n",
       "| FL             | Florida        |\n",
       "| NY             | New York       |\n",
       "| KY             | Kentucky       |\n",
       "| ME             | Maine          |\n",
       "| ND             | North Dakota   |\n",
       "| CA             | California     |\n",
       "| WA             | Washington     |\n",
       "| AK             | Alaska         |\n",
       "| CO             | Colorado       |\n",
       "| MO             | Missouri       |\n",
       "| UT             | Utah           |\n",
       "| VA             | Virginia       |\n",
       "| MT             | Montana        |\n",
       "| CT             | Connecticut    |\n",
       "| GA             | Georgia        |\n",
       "\n"
      ],
      "text/plain": [
       "   state_code state         \n",
       "1  US         All States    \n",
       "2  OH         Ohio          \n",
       "3  NC         North Carolina\n",
       "4  NH         New Hampshire \n",
       "5  TX         Texas         \n",
       "6  MI         Michigan      \n",
       "7  IA         Iowa          \n",
       "8  AZ         Arizona       \n",
       "9  SC         South Carolina\n",
       "10 MN         Minnesota     \n",
       "11 WI         Wisconsin     \n",
       "12 PA         Pennsylvania  \n",
       "13 NV         Nevada        \n",
       "14 MA         Massachusetts \n",
       "15 FL         Florida       \n",
       "16 NY         New York      \n",
       "17 KY         Kentucky      \n",
       "18 ME         Maine         \n",
       "19 ND         North Dakota  \n",
       "20 CA         California    \n",
       "21 WA         Washington    \n",
       "22 AK         Alaska        \n",
       "23 CO         Colorado      \n",
       "24 MO         Missouri      \n",
       "25 UT         Utah          \n",
       "26 VA         Virginia      \n",
       "27 MT         Montana       \n",
       "28 CT         Connecticut   \n",
       "29 GA         Georgia       "
      ]
     },
     "metadata": {},
     "output_type": "display_data"
    }
   ],
   "source": [
    "statesChosen$state[statesChosen$state_code == \"US\"]  <- \"All States\"\n",
    "describe(statesChosen$state)\n",
    "statesChosen"
   ]
  },
  {
   "cell_type": "code",
   "execution_count": 35,
   "metadata": {},
   "outputs": [
    {
     "data": {
      "text/html": [
       "<table>\n",
       "<thead><tr><th scope=col>state_code</th><th scope=col>state</th><th scope=col>winner</th><th scope=col>winning_party</th></tr></thead>\n",
       "<tbody>\n",
       "\t<tr><td>US            </td><td>All States    </td><td>Trump         </td><td>REP           </td></tr>\n",
       "\t<tr><td>OH            </td><td>Ohio          </td><td>Trump         </td><td>REP           </td></tr>\n",
       "\t<tr><td>NC            </td><td>North Carolina</td><td>Trump         </td><td>REP           </td></tr>\n",
       "\t<tr><td>NH            </td><td>New Hampshire </td><td>Clinton       </td><td>DEM           </td></tr>\n",
       "\t<tr><td>TX            </td><td>Texas         </td><td>Trump         </td><td>REP           </td></tr>\n",
       "\t<tr><td>MI            </td><td>Michigan      </td><td>Trump         </td><td>REP           </td></tr>\n",
       "</tbody>\n",
       "</table>\n"
      ],
      "text/latex": [
       "\\begin{tabular}{r|llll}\n",
       " state\\_code & state & winner & winning\\_party\\\\\n",
       "\\hline\n",
       "\t US             & All States     & Trump          & REP           \\\\\n",
       "\t OH             & Ohio           & Trump          & REP           \\\\\n",
       "\t NC             & North Carolina & Trump          & REP           \\\\\n",
       "\t NH             & New Hampshire  & Clinton        & DEM           \\\\\n",
       "\t TX             & Texas          & Trump          & REP           \\\\\n",
       "\t MI             & Michigan       & Trump          & REP           \\\\\n",
       "\\end{tabular}\n"
      ],
      "text/markdown": [
       "\n",
       "| state_code | state | winner | winning_party |\n",
       "|---|---|---|---|\n",
       "| US             | All States     | Trump          | REP            |\n",
       "| OH             | Ohio           | Trump          | REP            |\n",
       "| NC             | North Carolina | Trump          | REP            |\n",
       "| NH             | New Hampshire  | Clinton        | DEM            |\n",
       "| TX             | Texas          | Trump          | REP            |\n",
       "| MI             | Michigan       | Trump          | REP            |\n",
       "\n"
      ],
      "text/plain": [
       "  state_code state          winner  winning_party\n",
       "1 US         All States     Trump   REP          \n",
       "2 OH         Ohio           Trump   REP          \n",
       "3 NC         North Carolina Trump   REP          \n",
       "4 NH         New Hampshire  Clinton DEM          \n",
       "5 TX         Texas          Trump   REP          \n",
       "6 MI         Michigan       Trump   REP          "
      ]
     },
     "metadata": {},
     "output_type": "display_data"
    }
   ],
   "source": [
    "statesChosen$winner  <- voteShareByState$clinton_trump_state[match(statesChosen$state_code, voteShareByState$state_code)]\n",
    "statesChosen$winning_party <- ifelse(statesChosen$winner == \"Trump\",\n",
    "                                        \"REP\",\n",
    "                                        \"DEM\")\n",
    "head(statesChosen)"
   ]
  },
  {
   "cell_type": "markdown",
   "metadata": {},
   "source": [
    "### <font color=#4a4c52>*Subsetting poll data to select only states common in both 2016 and current data*"
   ]
  },
  {
   "cell_type": "code",
   "execution_count": 36,
   "metadata": {},
   "outputs": [
    {
     "data": {
      "text/html": [
       "<ol class=list-inline>\n",
       "\t<li>1130</li>\n",
       "\t<li>8</li>\n",
       "</ol>\n"
      ],
      "text/latex": [
       "\\begin{enumerate*}\n",
       "\\item 1130\n",
       "\\item 8\n",
       "\\end{enumerate*}\n"
      ],
      "text/markdown": [
       "1. 1130\n",
       "2. 8\n",
       "\n",
       "\n"
      ],
      "text/plain": [
       "[1] 1130    8"
      ]
     },
     "metadata": {},
     "output_type": "display_data"
    },
    {
     "data": {
      "text/html": [
       "<ol class=list-inline>\n",
       "\t<li>1130</li>\n",
       "\t<li>8</li>\n",
       "</ol>\n"
      ],
      "text/latex": [
       "\\begin{enumerate*}\n",
       "\\item 1130\n",
       "\\item 8\n",
       "\\end{enumerate*}\n"
      ],
      "text/markdown": [
       "1. 1130\n",
       "2. 8\n",
       "\n",
       "\n"
      ],
      "text/plain": [
       "[1] 1130    8"
      ]
     },
     "metadata": {},
     "output_type": "display_data"
    }
   ],
   "source": [
    "# Select only choosen states in  2020 polls data\n",
    "dim(polls_2020)\n",
    "polls2020ChoosenStates <- polls_2020[polls_2020$state_code %in% statesChosen$state_code, ]\n",
    "dim(polls2020ChoosenStates)"
   ]
  },
  {
   "cell_type": "code",
   "execution_count": 37,
   "metadata": {},
   "outputs": [
    {
     "data": {
      "text/html": [
       "<ol class=list-inline>\n",
       "\t<li>12624</li>\n",
       "\t<li>8</li>\n",
       "</ol>\n"
      ],
      "text/latex": [
       "\\begin{enumerate*}\n",
       "\\item 12624\n",
       "\\item 8\n",
       "\\end{enumerate*}\n"
      ],
      "text/markdown": [
       "1. 12624\n",
       "2. 8\n",
       "\n",
       "\n"
      ],
      "text/plain": [
       "[1] 12624     8"
      ]
     },
     "metadata": {},
     "output_type": "display_data"
    },
    {
     "data": {
      "text/html": [
       "<ol class=list-inline>\n",
       "\t<li>9597</li>\n",
       "\t<li>8</li>\n",
       "</ol>\n"
      ],
      "text/latex": [
       "\\begin{enumerate*}\n",
       "\\item 9597\n",
       "\\item 8\n",
       "\\end{enumerate*}\n"
      ],
      "text/markdown": [
       "1. 9597\n",
       "2. 8\n",
       "\n",
       "\n"
      ],
      "text/plain": [
       "[1] 9597    8"
      ]
     },
     "metadata": {},
     "output_type": "display_data"
    }
   ],
   "source": [
    "# Select only choosen states in  2016 polls data\n",
    "dim(polls2016)\n",
    "polls2016ChoosenStates <- polls2016[polls2016$state_code %in% statesChosen$state_code, ]\n",
    "dim(polls2016ChoosenStates)"
   ]
  },
  {
   "cell_type": "markdown",
   "metadata": {},
   "source": [
    "### <font color=#4a4c52>*Visualizing density distribution for state-wise vote share for republicans and democrats in 2016 and current polls*"
   ]
  },
  {
   "cell_type": "code",
   "execution_count": 38,
   "metadata": {},
   "outputs": [
    {
     "data": {
      "image/png": "[encoded data removed]",
      "text/plain": [
       "Plot with title \"Comparing 2016 vs 2020 Poll's Vote share Density ditribution\""
      ]
     },
     "metadata": {},
     "output_type": "display_data"
    }
   ],
   "source": [
    "\n",
    "plot(density(polls2016ChoosenStates$adjpoll_clinton),\n",
    "     type = \"l\",\n",
    "     col = \"blue\", \n",
    "     xlab = \"Vote share in percentage\", \n",
    "     main = \"Comparing 2016 vs 2020 Poll's Vote share Density ditribution\")\n",
    "\n",
    "lines(density(polls2016ChoosenStates$adjpoll_trump),\n",
    "      type = \"l\",\n",
    "      col = \"red\")\n",
    "\n",
    "lines(density(polls2020ChoosenStates$DEM),\n",
    "      type = \"l\",\n",
    "      lty = 2,\n",
    "      col = \"blue\")\n",
    "\n",
    "lines(density(polls2020ChoosenStates$REP),\n",
    "      type = \"l\",\n",
    "      lty = 2,\n",
    "      col = \"red\")\n",
    "\n",
    "legend(\"topright\", legend=c(\"Democrats 2016\",\"Democrats 2020\", \"Republican 2016\", \"Republican 2020\"),\n",
    "       col=c(\"blue\", \"blue\", \"red\", \"red\"), lty=c(1,2,1,2), cex=0.8)"
   ]
  },
  {
   "cell_type": "markdown",
   "metadata": {},
   "source": [
    "## <font color=#304073><u><center>Hypothesis Testing</center></u></font>"
   ]
  },
  {
   "cell_type": "markdown",
   "metadata": {},
   "source": [
    "### <font color=#4a4c52>With the current republican government under scrutiny since the begining of its term, we want to validate our assumption  that republican vote share is dropping in both red and blue states.</font>\n",
    "> ### <font color=#4a4c52>In order to validate our hypothesis, 2 sample t-test seems to be the best alternative. For following reason we have choosen t-statisitc as our validation criterion:</font>\n",
    "> ### 1. <font color=#4a4c52>We are unaware of the population standard deviation.</font>\n",
    "> ### 2. <font color=#4a4c52>The two samples are independent. The values in one sample does not reveal the information about the other sample since the indivduals participating in these polls cannot remain same.</font>"
   ]
  },
  {
   "cell_type": "markdown",
   "metadata": {},
   "source": [
    "### <font color=#4a4c52><u>Assumption one</u>:</font>\n",
    "> #### <font color=#4a4c52><u>Null hypothesis</u>: Republican votes share is unaffected in a state.</font>\n",
    "> #### <font color=#4a4c52><u>Alternate hypothesis</u>: Republican vote share has decreased in a state.</font>\n",
    "### <font color=#4a4c52><u>Assumption two</u>:</font>\n",
    "> #### <font color=#4a4c52><u>Null hypothesis</u>: Democrat votes share is unaffected in a state.</font>\n",
    "> #### <font color=#4a4c52><u>Alternate hypothesis</u>: Democrat vote share has increased in a state.</font>"
   ]
  },
  {
   "cell_type": "markdown",
   "metadata": {},
   "source": [
    "### <font color=#4a4c52><u>Performing single tail two sample hypothesis test for each state with polling data avaialble from 2016 and present.</u></font>"
   ]
  },
  {
   "cell_type": "code",
   "execution_count": 39,
   "metadata": {},
   "outputs": [
    {
     "name": "stdout",
     "output_type": "stream",
     "text": [
      "[1] \"All States was a Republican state in 2016.\"\n",
      "[1] \"   Collecting test statistic for two sample t-test for unequal variance\"\n",
      "[1] \"      Null hypothesis: Democrat vote share is unchanged in All States\"\n",
      "[1] \"      Alternate hypothesis: Democrat vote share has increased in All States\"\n",
      "[1] \"         We fail to reject the null hypothesis\"\n",
      "[1] \"   Collecting test statistic for two sample t-test for unequal variance\"\n",
      "[1] \"      Null hypothesis: Republican vote share is unchanged in All States\"\n",
      "[1] \"      Alternate hypothesis: Republican vote share has decreased in All States\"\n",
      "[1] \"         Null hypothesis is rejected\"\n",
      "[1] \"Ohio was a Republican state in 2016.\"\n",
      "[1] \"   Collecting test statistic for two sample t-test for equal variance\"\n",
      "[1] \"      Null hypothesis: Democrat vote share is unchanged in Ohio\"\n",
      "[1] \"      Alternate hypothesis: Democrat vote share has increased in Ohio\"\n",
      "[1] \"         Null hypothesis is rejected\"\n",
      "[1] \"   Collecting test statistic for two sample t-test for equal variance\"\n",
      "[1] \"      Null hypothesis: Republican vote share is unchanged in Ohio\"\n",
      "[1] \"      Alternate hypothesis: Republican vote share has decreased in Ohio\"\n",
      "[1] \"         We fail to reject the null hypothesis\"\n",
      "[1] \"North Carolina was a Republican state in 2016.\"\n",
      "[1] \"   Collecting test statistic for two sample t-test for unequal variance\"\n",
      "[1] \"      Null hypothesis: Democrat vote share is unchanged in North Carolina\"\n",
      "[1] \"      Alternate hypothesis: Democrat vote share has increased in North Carolina\"\n",
      "[1] \"         We fail to reject the null hypothesis\"\n",
      "[1] \"   Collecting test statistic for two sample t-test for unequal variance\"\n",
      "[1] \"      Null hypothesis: Republican vote share is unchanged in North Carolina\"\n",
      "[1] \"      Alternate hypothesis: Republican vote share has decreased in North Carolina\"\n",
      "[1] \"         We fail to reject the null hypothesis\"\n",
      "[1] \"New Hampshire was a Democratic state in 2016.\"\n",
      "[1] \"   Collecting test statistic for two sample t-test for equal variance\"\n",
      "[1] \"      Null hypothesis: Democrat vote share is unchanged in New Hampshire\"\n",
      "[1] \"      Alternate hypothesis: Democrat vote share has increased in New Hampshire\"\n",
      "[1] \"         Null hypothesis is rejected\"\n",
      "[1] \"   Collecting test statistic for two sample t-test for equal variance\"\n",
      "[1] \"      Null hypothesis: Republican vote share is unchanged in New Hampshire\"\n",
      "[1] \"      Alternate hypothesis: Republican vote share has decreased in New Hampshire\"\n",
      "[1] \"         We fail to reject the null hypothesis\"\n",
      "[1] \"Texas was a Republican state in 2016.\"\n",
      "[1] \"   Collecting test statistic for two sample t-test for unequal variance\"\n",
      "[1] \"      Null hypothesis: Democrat vote share is unchanged in Texas\"\n",
      "[1] \"      Alternate hypothesis: Democrat vote share has increased in Texas\"\n",
      "[1] \"         Null hypothesis is rejected\"\n",
      "[1] \"   Collecting test statistic for two sample t-test for unequal variance\"\n",
      "[1] \"      Null hypothesis: Republican vote share is unchanged in Texas\"\n",
      "[1] \"      Alternate hypothesis: Republican vote share has decreased in Texas\"\n",
      "[1] \"         We fail to reject the null hypothesis\"\n",
      "[1] \"Michigan was a Republican state in 2016.\"\n",
      "[1] \"   Collecting test statistic for two sample t-test for unequal variance\"\n",
      "[1] \"      Null hypothesis: Democrat vote share is unchanged in Michigan\"\n",
      "[1] \"      Alternate hypothesis: Democrat vote share has increased in Michigan\"\n",
      "[1] \"         Null hypothesis is rejected\"\n",
      "[1] \"   Collecting test statistic for two sample t-test for unequal variance\"\n",
      "[1] \"      Null hypothesis: Republican vote share is unchanged in Michigan\"\n",
      "[1] \"      Alternate hypothesis: Republican vote share has decreased in Michigan\"\n",
      "[1] \"         We fail to reject the null hypothesis\"\n",
      "[1] \"Iowa was a Republican state in 2016.\"\n",
      "[1] \"   Collecting test statistic for two sample t-test for equal variance\"\n",
      "[1] \"      Null hypothesis: Democrat vote share is unchanged in Iowa\"\n",
      "[1] \"      Alternate hypothesis: Democrat vote share has increased in Iowa\"\n",
      "[1] \"         Null hypothesis is rejected\"\n",
      "[1] \"   Collecting test statistic for two sample t-test for equal variance\"\n",
      "[1] \"      Null hypothesis: Republican vote share is unchanged in Iowa\"\n",
      "[1] \"      Alternate hypothesis: Republican vote share has decreased in Iowa\"\n",
      "[1] \"         We fail to reject the null hypothesis\"\n",
      "[1] \"Arizona was a Republican state in 2016.\"\n",
      "[1] \"   Collecting test statistic for two sample t-test for unequal variance\"\n",
      "[1] \"      Null hypothesis: Democrat vote share is unchanged in Arizona\"\n",
      "[1] \"      Alternate hypothesis: Democrat vote share has increased in Arizona\"\n",
      "[1] \"         We fail to reject the null hypothesis\"\n",
      "[1] \"   Collecting test statistic for two sample t-test for equal variance\"\n",
      "[1] \"      Null hypothesis: Republican vote share is unchanged in Arizona\"\n",
      "[1] \"      Alternate hypothesis: Republican vote share has decreased in Arizona\"\n",
      "[1] \"         We fail to reject the null hypothesis\"\n",
      "[1] \"South Carolina was a Republican state in 2016.\"\n",
      "[1] \"   Collecting test statistic for two sample t-test for unequal variance\"\n",
      "[1] \"      Null hypothesis: Democrat vote share is unchanged in South Carolina\"\n",
      "[1] \"      Alternate hypothesis: Democrat vote share has increased in South Carolina\"\n",
      "[1] \"         We fail to reject the null hypothesis\"\n",
      "[1] \"   Collecting test statistic for two sample t-test for unequal variance\"\n",
      "[1] \"      Null hypothesis: Republican vote share is unchanged in South Carolina\"\n",
      "[1] \"      Alternate hypothesis: Republican vote share has decreased in South Carolina\"\n",
      "[1] \"         We fail to reject the null hypothesis\"\n",
      "[1] \"Minnesota was a Democratic state in 2016.\"\n",
      "[1] \"   Collecting test statistic for two sample t-test for unequal variance\"\n",
      "[1] \"      Null hypothesis: Democrat vote share is unchanged in Minnesota\"\n",
      "[1] \"      Alternate hypothesis: Democrat vote share has increased in Minnesota\"\n",
      "[1] \"         Null hypothesis is rejected\"\n",
      "[1] \"   Collecting test statistic for two sample t-test for equal variance\"\n",
      "[1] \"      Null hypothesis: Republican vote share is unchanged in Minnesota\"\n",
      "[1] \"      Alternate hypothesis: Republican vote share has decreased in Minnesota\"\n",
      "[1] \"         We fail to reject the null hypothesis\"\n",
      "[1] \"Wisconsin was a Republican state in 2016.\"\n",
      "[1] \"   Collecting test statistic for two sample t-test for equal variance\"\n",
      "[1] \"      Null hypothesis: Democrat vote share is unchanged in Wisconsin\"\n",
      "[1] \"      Alternate hypothesis: Democrat vote share has increased in Wisconsin\"\n",
      "[1] \"         Null hypothesis is rejected\"\n",
      "[1] \"   Collecting test statistic for two sample t-test for equal variance\"\n",
      "[1] \"      Null hypothesis: Republican vote share is unchanged in Wisconsin\"\n",
      "[1] \"      Alternate hypothesis: Republican vote share has decreased in Wisconsin\"\n",
      "[1] \"         We fail to reject the null hypothesis\"\n",
      "[1] \"Pennsylvania was a Republican state in 2016.\"\n",
      "[1] \"   Collecting test statistic for two sample t-test for unequal variance\"\n",
      "[1] \"      Null hypothesis: Democrat vote share is unchanged in Pennsylvania\"\n",
      "[1] \"      Alternate hypothesis: Democrat vote share has increased in Pennsylvania\"\n",
      "[1] \"         We fail to reject the null hypothesis\"\n",
      "[1] \"   Collecting test statistic for two sample t-test for equal variance\"\n",
      "[1] \"      Null hypothesis: Republican vote share is unchanged in Pennsylvania\"\n",
      "[1] \"      Alternate hypothesis: Republican vote share has decreased in Pennsylvania\"\n",
      "[1] \"         We fail to reject the null hypothesis\"\n",
      "[1] \"Nevada was a Democratic state in 2016.\"\n",
      "[1] \"   Collecting test statistic for two sample t-test for equal variance\"\n",
      "[1] \"      Null hypothesis: Democrat vote share is unchanged in Nevada\"\n",
      "[1] \"      Alternate hypothesis: Democrat vote share has increased in Nevada\"\n",
      "[1] \"         Null hypothesis is rejected\"\n",
      "[1] \"   Collecting test statistic for two sample t-test for unequal variance\"\n",
      "[1] \"      Null hypothesis: Republican vote share is unchanged in Nevada\"\n",
      "[1] \"      Alternate hypothesis: Republican vote share has decreased in Nevada\"\n",
      "[1] \"         We fail to reject the null hypothesis\"\n",
      "[1] \"Massachusetts was a Democratic state in 2016.\"\n",
      "[1] \"   Collecting test statistic for two sample t-test for equal variance\"\n",
      "[1] \"      Null hypothesis: Democrat vote share is unchanged in Massachusetts\"\n",
      "[1] \"      Alternate hypothesis: Democrat vote share has increased in Massachusetts\"\n",
      "[1] \"         Null hypothesis is rejected\"\n",
      "[1] \"   Collecting test statistic for two sample t-test for equal variance\"\n",
      "[1] \"      Null hypothesis: Republican vote share is unchanged in Massachusetts\"\n",
      "[1] \"      Alternate hypothesis: Republican vote share has decreased in Massachusetts\"\n",
      "[1] \"         We fail to reject the null hypothesis\"\n",
      "[1] \"Florida was a Republican state in 2016.\"\n",
      "[1] \"   Collecting test statistic for two sample t-test for equal variance\"\n",
      "[1] \"      Null hypothesis: Democrat vote share is unchanged in Florida\"\n",
      "[1] \"      Alternate hypothesis: Democrat vote share has increased in Florida\"\n",
      "[1] \"         We fail to reject the null hypothesis\"\n",
      "[1] \"   Collecting test statistic for two sample t-test for unequal variance\"\n",
      "[1] \"      Null hypothesis: Republican vote share is unchanged in Florida\"\n",
      "[1] \"      Alternate hypothesis: Republican vote share has decreased in Florida\"\n",
      "[1] \"         We fail to reject the null hypothesis\"\n",
      "[1] \"New York was a Democratic state in 2016.\"\n",
      "[1] \"   Collecting test statistic for two sample t-test for equal variance\"\n",
      "[1] \"      Null hypothesis: Democrat vote share is unchanged in New York\"\n",
      "[1] \"      Alternate hypothesis: Democrat vote share has increased in New York\"\n",
      "[1] \"         We fail to reject the null hypothesis\"\n",
      "[1] \"   Collecting test statistic for two sample t-test for equal variance\"\n",
      "[1] \"      Null hypothesis: Republican vote share is unchanged in New York\"\n",
      "[1] \"      Alternate hypothesis: Republican vote share has decreased in New York\"\n",
      "[1] \"         We fail to reject the null hypothesis\"\n",
      "[1] \"Kentucky was a Republican state in 2016.\"\n",
      "[1] \"   Collecting test statistic for two sample t-test for equal variance\"\n",
      "[1] \"      Null hypothesis: Democrat vote share is unchanged in Kentucky\"\n",
      "[1] \"      Alternate hypothesis: Democrat vote share has increased in Kentucky\"\n",
      "[1] \"         We fail to reject the null hypothesis\"\n",
      "[1] \"   Collecting test statistic for two sample t-test for equal variance\"\n",
      "[1] \"      Null hypothesis: Republican vote share is unchanged in Kentucky\"\n",
      "[1] \"      Alternate hypothesis: Republican vote share has decreased in Kentucky\"\n",
      "[1] \"         We fail to reject the null hypothesis\"\n",
      "[1] \"Maine was a Democratic state in 2016.\"\n",
      "[1] \"   Collecting test statistic for two sample t-test for equal variance\"\n",
      "[1] \"      Null hypothesis: Democrat vote share is unchanged in Maine\"\n",
      "[1] \"      Alternate hypothesis: Democrat vote share has increased in Maine\"\n",
      "[1] \"         Null hypothesis is rejected\"\n",
      "[1] \"   Collecting test statistic for two sample t-test for equal variance\"\n",
      "[1] \"      Null hypothesis: Republican vote share is unchanged in Maine\"\n",
      "[1] \"      Alternate hypothesis: Republican vote share has decreased in Maine\"\n",
      "[1] \"         We fail to reject the null hypothesis\"\n",
      "[1] \"North Dakota was a Republican state in 2016.\"\n",
      "[1] \"   Collecting test statistic for two sample t-test for equal variance\"\n",
      "[1] \"      Null hypothesis: Democrat vote share is unchanged in North Dakota\"\n",
      "[1] \"      Alternate hypothesis: Democrat vote share has increased in North Dakota\"\n",
      "[1] \"         Null hypothesis is rejected\"\n",
      "[1] \"   Collecting test statistic for two sample t-test for equal variance\"\n",
      "[1] \"      Null hypothesis: Republican vote share is unchanged in North Dakota\"\n",
      "[1] \"      Alternate hypothesis: Republican vote share has decreased in North Dakota\"\n",
      "[1] \"         We fail to reject the null hypothesis\"\n",
      "[1] \"California was a Democratic state in 2016.\"\n",
      "[1] \"   Collecting test statistic for two sample t-test for unequal variance\"\n",
      "[1] \"      Null hypothesis: Democrat vote share is unchanged in California\"\n",
      "[1] \"      Alternate hypothesis: Democrat vote share has increased in California\"\n",
      "[1] \"         We fail to reject the null hypothesis\"\n",
      "[1] \"   Collecting test statistic for two sample t-test for unequal variance\"\n",
      "[1] \"      Null hypothesis: Republican vote share is unchanged in California\"\n",
      "[1] \"      Alternate hypothesis: Republican vote share has decreased in California\"\n",
      "[1] \"         We fail to reject the null hypothesis\"\n",
      "[1] \"Washington was a Democratic state in 2016.\"\n",
      "[1] \"   Collecting test statistic for two sample t-test for unequal variance\"\n",
      "[1] \"      Null hypothesis: Democrat vote share is unchanged in Washington\"\n",
      "[1] \"      Alternate hypothesis: Democrat vote share has increased in Washington\"\n",
      "[1] \"         We fail to reject the null hypothesis\"\n",
      "[1] \"   Collecting test statistic for two sample t-test for equal variance\"\n",
      "[1] \"      Null hypothesis: Republican vote share is unchanged in Washington\"\n",
      "[1] \"      Alternate hypothesis: Republican vote share has decreased in Washington\"\n",
      "[1] \"         We fail to reject the null hypothesis\"\n",
      "[1] \"Alaska was a Republican state in 2016.\"\n",
      "[1] \"   Collecting test statistic for two sample t-test for equal variance\"\n",
      "[1] \"      Null hypothesis: Democrat vote share is unchanged in Alaska\"\n",
      "[1] \"      Alternate hypothesis: Democrat vote share has increased in Alaska\"\n",
      "[1] \"         We fail to reject the null hypothesis\"\n",
      "[1] \"   Collecting test statistic for two sample t-test for equal variance\"\n",
      "[1] \"      Null hypothesis: Republican vote share is unchanged in Alaska\"\n",
      "[1] \"      Alternate hypothesis: Republican vote share has decreased in Alaska\"\n",
      "[1] \"         We fail to reject the null hypothesis\"\n",
      "[1] \"Colorado was a Democratic state in 2016.\"\n",
      "[1] \"   Collecting test statistic for two sample t-test for equal variance\"\n",
      "[1] \"      Null hypothesis: Democrat vote share is unchanged in Colorado\"\n",
      "[1] \"      Alternate hypothesis: Democrat vote share has increased in Colorado\"\n",
      "[1] \"         Null hypothesis is rejected\"\n",
      "[1] \"   Collecting test statistic for two sample t-test for equal variance\"\n",
      "[1] \"      Null hypothesis: Republican vote share is unchanged in Colorado\"\n",
      "[1] \"      Alternate hypothesis: Republican vote share has decreased in Colorado\"\n",
      "[1] \"         We fail to reject the null hypothesis\"\n",
      "[1] \"Missouri was a Republican state in 2016.\"\n",
      "[1] \"   Collecting test statistic for two sample t-test for equal variance\"\n",
      "[1] \"      Null hypothesis: Democrat vote share is unchanged in Missouri\"\n",
      "[1] \"      Alternate hypothesis: Democrat vote share has increased in Missouri\"\n",
      "[1] \"         We fail to reject the null hypothesis\"\n",
      "[1] \"   Collecting test statistic for two sample t-test for unequal variance\"\n",
      "[1] \"      Null hypothesis: Republican vote share is unchanged in Missouri\"\n",
      "[1] \"      Alternate hypothesis: Republican vote share has decreased in Missouri\"\n",
      "[1] \"         We fail to reject the null hypothesis\"\n",
      "[1] \"Utah was a Republican state in 2016.\"\n",
      "[1] \"   Collecting test statistic for two sample t-test for unequal variance\"\n",
      "[1] \"      Null hypothesis: Democrat vote share is unchanged in Utah\"\n",
      "[1] \"      Alternate hypothesis: Democrat vote share has increased in Utah\"\n",
      "[1] \"         Null hypothesis is rejected\"\n",
      "[1] \"   Collecting test statistic for two sample t-test for equal variance\"\n",
      "[1] \"      Null hypothesis: Republican vote share is unchanged in Utah\"\n",
      "[1] \"      Alternate hypothesis: Republican vote share has decreased in Utah\"\n",
      "[1] \"         We fail to reject the null hypothesis\"\n",
      "[1] \"Virginia was a Democratic state in 2016.\"\n",
      "[1] \"   Collecting test statistic for two sample t-test for equal variance\"\n",
      "[1] \"      Null hypothesis: Democrat vote share is unchanged in Virginia\"\n",
      "[1] \"      Alternate hypothesis: Democrat vote share has increased in Virginia\"\n",
      "[1] \"         Null hypothesis is rejected\"\n",
      "[1] \"   Collecting test statistic for two sample t-test for unequal variance\"\n",
      "[1] \"      Null hypothesis: Republican vote share is unchanged in Virginia\"\n",
      "[1] \"      Alternate hypothesis: Republican vote share has decreased in Virginia\"\n",
      "[1] \"         We fail to reject the null hypothesis\"\n",
      "[1] \"Montana was a Republican state in 2016.\"\n",
      "[1] \"   Collecting test statistic for two sample t-test for equal variance\"\n",
      "[1] \"      Null hypothesis: Democrat vote share is unchanged in Montana\"\n",
      "[1] \"      Alternate hypothesis: Democrat vote share has increased in Montana\"\n",
      "[1] \"         Null hypothesis is rejected\"\n",
      "[1] \"   Collecting test statistic for two sample t-test for equal variance\"\n",
      "[1] \"      Null hypothesis: Republican vote share is unchanged in Montana\"\n",
      "[1] \"      Alternate hypothesis: Republican vote share has decreased in Montana\"\n",
      "[1] \"         We fail to reject the null hypothesis\"\n",
      "[1] \"Connecticut was a Democratic state in 2016.\"\n",
      "[1] \"   Collecting test statistic for two sample t-test for equal variance\"\n",
      "[1] \"      Null hypothesis: Democrat vote share is unchanged in Connecticut\"\n",
      "[1] \"      Alternate hypothesis: Democrat vote share has increased in Connecticut\"\n",
      "[1] \"         We fail to reject the null hypothesis\"\n",
      "[1] \"   Collecting test statistic for two sample t-test for unequal variance\"\n",
      "[1] \"      Null hypothesis: Republican vote share is unchanged in Connecticut\"\n",
      "[1] \"      Alternate hypothesis: Republican vote share has decreased in Connecticut\"\n",
      "[1] \"         We fail to reject the null hypothesis\"\n",
      "[1] \"Georgia was a Republican state in 2016.\"\n",
      "[1] \"   Collecting test statistic for two sample t-test for equal variance\"\n",
      "[1] \"      Null hypothesis: Democrat vote share is unchanged in Georgia\"\n",
      "[1] \"      Alternate hypothesis: Democrat vote share has increased in Georgia\"\n",
      "[1] \"         Null hypothesis is rejected\"\n",
      "[1] \"   Collecting test statistic for two sample t-test for equal variance\"\n",
      "[1] \"      Null hypothesis: Republican vote share is unchanged in Georgia\"\n",
      "[1] \"      Alternate hypothesis: Republican vote share has decreased in Georgia\"\n",
      "[1] \"         We fail to reject the null hypothesis\"\n"
     ]
    }
   ],
   "source": [
    "tTestResult <- data.frame(matrix(ncol = 5, nrow = 0))\n",
    "colnames(tTestResult) <- c(\"state_code\",\n",
    "                           \"state\",\n",
    "                           \"winner_2016\",\n",
    "                           \"Democratic_vote_share_increase\",\n",
    "                           \"Republican_vote_share_decrease\")\n",
    "for (row in 1:nrow(statesChosen)){\n",
    "    state_cd  <- statesChosen[row, \"state_code\"]\n",
    "    state  <- statesChosen[row, \"state\"]\n",
    "    winner2016  <- statesChosen[row, \"winning_party\"]\n",
    "    demVoteShareIncrease <- \"\"\n",
    "    repVoteShareDecrease <- \"\"\n",
    "    if (winner2016 == \"DEM\"){\n",
    "        print(paste(state, \"was a Democratic state in 2016.\"))\n",
    "    }else{\n",
    "        print(paste(state, \"was a Republican state in 2016.\"))\n",
    "    }\n",
    "    varianceDem <- var.test(x = polls2016ChoosenStates$adjpoll_clinton[polls2016ChoosenStates$state_code == state_cd],\n",
    "                         y = polls2020ChoosenStates$DEM[polls2020ChoosenStates$state_code == state_cd])\n",
    "    varianceDemPvalue  <- varianceDem$p.value\n",
    "\n",
    "    varianceRep <- var.test(x = polls2016ChoosenStates$adjpoll_trump[polls2016ChoosenStates$state_code == state_cd],\n",
    "                         y = polls2020ChoosenStates$REP[polls2020ChoosenStates$state_code == state_cd])\n",
    "    varianceRepPvalue  <- varianceRep$p.value\n",
    "    if (varianceDemPvalue > 0.05){\n",
    "        print(\"   Collecting test statistic for two sample t-test for equal variance\")\n",
    "        print(paste(\"      Null hypothesis: Democrat vote share is unchanged in\", state))\n",
    "        print(paste(\"      Alternate hypothesis: Democrat vote share has increased in\", state))\n",
    "        tStatisticDem <- t.test(x = polls2016ChoosenStates$adjpoll_clinton[polls2016ChoosenStates$state_code == state_cd], \n",
    "                             y = polls2020ChoosenStates$DEM[polls2020ChoosenStates$state_code == state_cd],\n",
    "                             alternative = \"less\",\n",
    "                             var.equal = TRUE)\n",
    "\n",
    "    }else{\n",
    "        print(\"   Collecting test statistic for two sample t-test for unequal variance\")\n",
    "        print(paste(\"      Null hypothesis: Democrat vote share is unchanged in\", state))\n",
    "        print(paste(\"      Alternate hypothesis: Democrat vote share has increased in\", state))\n",
    "        tStatisticDem <- t.test(x = polls2016ChoosenStates$adjpoll_clinton[polls2016ChoosenStates$state_code == state_cd], \n",
    "                             y = polls2020ChoosenStates$DEM[polls2020ChoosenStates$state_code == state_cd],\n",
    "                             alternative = \"less\",\n",
    "                             var.equal = FALSE)            \n",
    "    }\n",
    "    pValueDem <- tStatisticDem$p.value\n",
    "    if(pValueDem > 0.05){\n",
    "        print(\"         We fail to reject the null hypothesis\")\n",
    "        demVoteShareIncrease <- \"Y\"\n",
    "    }else{\n",
    "        print(\"         Null hypothesis is rejected\")\n",
    "        demVoteShareIncrease <- \"N\"\n",
    "    }\n",
    "    if (varianceRepPvalue > 0.05){ \n",
    "        print(\"   Collecting test statistic for two sample t-test for equal variance\")\n",
    "        print(paste(\"      Null hypothesis: Republican vote share is unchanged in\", state))\n",
    "        print(paste(\"      Alternate hypothesis: Republican vote share has decreased in\", state))\n",
    "        tStatisticRep <- t.test(x = polls2016ChoosenStates$adjpoll_clinton[polls2016ChoosenStates$state_code == state_cd], \n",
    "                             y = polls2020ChoosenStates$DEM[polls2020ChoosenStates$state_code == state_cd],\n",
    "                             alternative = \"greater\",\n",
    "                             var.equal = TRUE)\n",
    "    }else{\n",
    "        print(\"   Collecting test statistic for two sample t-test for unequal variance\")\n",
    "        print(paste(\"      Null hypothesis: Republican vote share is unchanged in\", state))\n",
    "        print(paste(\"      Alternate hypothesis: Republican vote share has decreased in\", state))\n",
    "        tStatisticRep <- t.test(x = polls2016ChoosenStates$adjpoll_clinton[polls2016ChoosenStates$state_code == state_cd], \n",
    "                      y = polls2020ChoosenStates$DEM[polls2020ChoosenStates$state_code == state_cd],\n",
    "                      alternative = \"greater\",\n",
    "                      var.equal = FALSE)\n",
    "    }\n",
    "    pValueRep <- tStatisticRep$p.value\n",
    "    if(pValueRep > 0.05){\n",
    "        print(\"         We fail to reject the null hypothesis\")\n",
    "        repVoteShareDecrease <-  \"N\"\n",
    "    }else{\n",
    "        print(\"         Null hypothesis is rejected\")\n",
    "        repVoteShareDecrease <-  \"Y\"\n",
    "    }\n",
    "    \n",
    "    tTestResult <- tTestResult %>%\n",
    "    add_row(state_code = state_cd, \n",
    "            state = state, \n",
    "            winner_2016 = winner2016, \n",
    "            Democratic_vote_share_increase = demVoteShareIncrease , \n",
    "            Republican_vote_share_decrease = repVoteShareDecrease)\n",
    "}\n"
   ]
  },
  {
   "cell_type": "code",
   "execution_count": 40,
   "metadata": {},
   "outputs": [
    {
     "data": {
      "text/html": [
       "<table>\n",
       "<thead><tr><th scope=col>state_code</th><th scope=col>state</th><th scope=col>winner_2016</th><th scope=col>Democratic_vote_share_increase</th><th scope=col>Republican_vote_share_decrease</th></tr></thead>\n",
       "<tbody>\n",
       "\t<tr><td>US            </td><td>All States    </td><td>REP           </td><td>Y             </td><td>Y             </td></tr>\n",
       "\t<tr><td>OH            </td><td>Ohio          </td><td>REP           </td><td>N             </td><td>N             </td></tr>\n",
       "\t<tr><td>NC            </td><td>North Carolina</td><td>REP           </td><td>Y             </td><td>N             </td></tr>\n",
       "\t<tr><td>NH            </td><td>New Hampshire </td><td>DEM           </td><td>N             </td><td>N             </td></tr>\n",
       "\t<tr><td>TX            </td><td>Texas         </td><td>REP           </td><td>N             </td><td>N             </td></tr>\n",
       "\t<tr><td>MI            </td><td>Michigan      </td><td>REP           </td><td>N             </td><td>N             </td></tr>\n",
       "\t<tr><td>IA            </td><td>Iowa          </td><td>REP           </td><td>N             </td><td>N             </td></tr>\n",
       "\t<tr><td>AZ            </td><td>Arizona       </td><td>REP           </td><td>Y             </td><td>N             </td></tr>\n",
       "\t<tr><td>SC            </td><td>South Carolina</td><td>REP           </td><td>Y             </td><td>N             </td></tr>\n",
       "\t<tr><td>MN            </td><td>Minnesota     </td><td>DEM           </td><td>N             </td><td>N             </td></tr>\n",
       "\t<tr><td>WI            </td><td>Wisconsin     </td><td>REP           </td><td>N             </td><td>N             </td></tr>\n",
       "\t<tr><td>PA            </td><td>Pennsylvania  </td><td>REP           </td><td>Y             </td><td>N             </td></tr>\n",
       "\t<tr><td>NV            </td><td>Nevada        </td><td>DEM           </td><td>N             </td><td>N             </td></tr>\n",
       "\t<tr><td>MA            </td><td>Massachusetts </td><td>DEM           </td><td>N             </td><td>N             </td></tr>\n",
       "\t<tr><td>FL            </td><td>Florida       </td><td>REP           </td><td>Y             </td><td>N             </td></tr>\n",
       "\t<tr><td>NY            </td><td>New York      </td><td>DEM           </td><td>Y             </td><td>N             </td></tr>\n",
       "\t<tr><td>KY            </td><td>Kentucky      </td><td>REP           </td><td>Y             </td><td>N             </td></tr>\n",
       "\t<tr><td>ME            </td><td>Maine         </td><td>DEM           </td><td>N             </td><td>N             </td></tr>\n",
       "\t<tr><td>ND            </td><td>North Dakota  </td><td>REP           </td><td>N             </td><td>N             </td></tr>\n",
       "\t<tr><td>CA            </td><td>California    </td><td>DEM           </td><td>Y             </td><td>N             </td></tr>\n",
       "\t<tr><td>WA            </td><td>Washington    </td><td>DEM           </td><td>Y             </td><td>N             </td></tr>\n",
       "\t<tr><td>AK            </td><td>Alaska        </td><td>REP           </td><td>Y             </td><td>N             </td></tr>\n",
       "\t<tr><td>CO            </td><td>Colorado      </td><td>DEM           </td><td>N             </td><td>N             </td></tr>\n",
       "\t<tr><td>MO            </td><td>Missouri      </td><td>REP           </td><td>Y             </td><td>N             </td></tr>\n",
       "\t<tr><td>UT            </td><td>Utah          </td><td>REP           </td><td>N             </td><td>N             </td></tr>\n",
       "\t<tr><td>VA            </td><td>Virginia      </td><td>DEM           </td><td>N             </td><td>N             </td></tr>\n",
       "\t<tr><td>MT            </td><td>Montana       </td><td>REP           </td><td>N             </td><td>N             </td></tr>\n",
       "\t<tr><td>CT            </td><td>Connecticut   </td><td>DEM           </td><td>Y             </td><td>N             </td></tr>\n",
       "\t<tr><td>GA            </td><td>Georgia       </td><td>REP           </td><td>N             </td><td>N             </td></tr>\n",
       "</tbody>\n",
       "</table>\n"
      ],
      "text/latex": [
       "\\begin{tabular}{r|lllll}\n",
       " state\\_code & state & winner\\_2016 & Democratic\\_vote\\_share\\_increase & Republican\\_vote\\_share\\_decrease\\\\\n",
       "\\hline\n",
       "\t US             & All States     & REP            & Y              & Y             \\\\\n",
       "\t OH             & Ohio           & REP            & N              & N             \\\\\n",
       "\t NC             & North Carolina & REP            & Y              & N             \\\\\n",
       "\t NH             & New Hampshire  & DEM            & N              & N             \\\\\n",
       "\t TX             & Texas          & REP            & N              & N             \\\\\n",
       "\t MI             & Michigan       & REP            & N              & N             \\\\\n",
       "\t IA             & Iowa           & REP            & N              & N             \\\\\n",
       "\t AZ             & Arizona        & REP            & Y              & N             \\\\\n",
       "\t SC             & South Carolina & REP            & Y              & N             \\\\\n",
       "\t MN             & Minnesota      & DEM            & N              & N             \\\\\n",
       "\t WI             & Wisconsin      & REP            & N              & N             \\\\\n",
       "\t PA             & Pennsylvania   & REP            & Y              & N             \\\\\n",
       "\t NV             & Nevada         & DEM            & N              & N             \\\\\n",
       "\t MA             & Massachusetts  & DEM            & N              & N             \\\\\n",
       "\t FL             & Florida        & REP            & Y              & N             \\\\\n",
       "\t NY             & New York       & DEM            & Y              & N             \\\\\n",
       "\t KY             & Kentucky       & REP            & Y              & N             \\\\\n",
       "\t ME             & Maine          & DEM            & N              & N             \\\\\n",
       "\t ND             & North Dakota   & REP            & N              & N             \\\\\n",
       "\t CA             & California     & DEM            & Y              & N             \\\\\n",
       "\t WA             & Washington     & DEM            & Y              & N             \\\\\n",
       "\t AK             & Alaska         & REP            & Y              & N             \\\\\n",
       "\t CO             & Colorado       & DEM            & N              & N             \\\\\n",
       "\t MO             & Missouri       & REP            & Y              & N             \\\\\n",
       "\t UT             & Utah           & REP            & N              & N             \\\\\n",
       "\t VA             & Virginia       & DEM            & N              & N             \\\\\n",
       "\t MT             & Montana        & REP            & N              & N             \\\\\n",
       "\t CT             & Connecticut    & DEM            & Y              & N             \\\\\n",
       "\t GA             & Georgia        & REP            & N              & N             \\\\\n",
       "\\end{tabular}\n"
      ],
      "text/markdown": [
       "\n",
       "| state_code | state | winner_2016 | Democratic_vote_share_increase | Republican_vote_share_decrease |\n",
       "|---|---|---|---|---|\n",
       "| US             | All States     | REP            | Y              | Y              |\n",
       "| OH             | Ohio           | REP            | N              | N              |\n",
       "| NC             | North Carolina | REP            | Y              | N              |\n",
       "| NH             | New Hampshire  | DEM            | N              | N              |\n",
       "| TX             | Texas          | REP            | N              | N              |\n",
       "| MI             | Michigan       | REP            | N              | N              |\n",
       "| IA             | Iowa           | REP            | N              | N              |\n",
       "| AZ             | Arizona        | REP            | Y              | N              |\n",
       "| SC             | South Carolina | REP            | Y              | N              |\n",
       "| MN             | Minnesota      | DEM            | N              | N              |\n",
       "| WI             | Wisconsin      | REP            | N              | N              |\n",
       "| PA             | Pennsylvania   | REP            | Y              | N              |\n",
       "| NV             | Nevada         | DEM            | N              | N              |\n",
       "| MA             | Massachusetts  | DEM            | N              | N              |\n",
       "| FL             | Florida        | REP            | Y              | N              |\n",
       "| NY             | New York       | DEM            | Y              | N              |\n",
       "| KY             | Kentucky       | REP            | Y              | N              |\n",
       "| ME             | Maine          | DEM            | N              | N              |\n",
       "| ND             | North Dakota   | REP            | N              | N              |\n",
       "| CA             | California     | DEM            | Y              | N              |\n",
       "| WA             | Washington     | DEM            | Y              | N              |\n",
       "| AK             | Alaska         | REP            | Y              | N              |\n",
       "| CO             | Colorado       | DEM            | N              | N              |\n",
       "| MO             | Missouri       | REP            | Y              | N              |\n",
       "| UT             | Utah           | REP            | N              | N              |\n",
       "| VA             | Virginia       | DEM            | N              | N              |\n",
       "| MT             | Montana        | REP            | N              | N              |\n",
       "| CT             | Connecticut    | DEM            | Y              | N              |\n",
       "| GA             | Georgia        | REP            | N              | N              |\n",
       "\n"
      ],
      "text/plain": [
       "   state_code state          winner_2016 Democratic_vote_share_increase\n",
       "1  US         All States     REP         Y                             \n",
       "2  OH         Ohio           REP         N                             \n",
       "3  NC         North Carolina REP         Y                             \n",
       "4  NH         New Hampshire  DEM         N                             \n",
       "5  TX         Texas          REP         N                             \n",
       "6  MI         Michigan       REP         N                             \n",
       "7  IA         Iowa           REP         N                             \n",
       "8  AZ         Arizona        REP         Y                             \n",
       "9  SC         South Carolina REP         Y                             \n",
       "10 MN         Minnesota      DEM         N                             \n",
       "11 WI         Wisconsin      REP         N                             \n",
       "12 PA         Pennsylvania   REP         Y                             \n",
       "13 NV         Nevada         DEM         N                             \n",
       "14 MA         Massachusetts  DEM         N                             \n",
       "15 FL         Florida        REP         Y                             \n",
       "16 NY         New York       DEM         Y                             \n",
       "17 KY         Kentucky       REP         Y                             \n",
       "18 ME         Maine          DEM         N                             \n",
       "19 ND         North Dakota   REP         N                             \n",
       "20 CA         California     DEM         Y                             \n",
       "21 WA         Washington     DEM         Y                             \n",
       "22 AK         Alaska         REP         Y                             \n",
       "23 CO         Colorado       DEM         N                             \n",
       "24 MO         Missouri       REP         Y                             \n",
       "25 UT         Utah           REP         N                             \n",
       "26 VA         Virginia       DEM         N                             \n",
       "27 MT         Montana        REP         N                             \n",
       "28 CT         Connecticut    DEM         Y                             \n",
       "29 GA         Georgia        REP         N                             \n",
       "   Republican_vote_share_decrease\n",
       "1  Y                             \n",
       "2  N                             \n",
       "3  N                             \n",
       "4  N                             \n",
       "5  N                             \n",
       "6  N                             \n",
       "7  N                             \n",
       "8  N                             \n",
       "9  N                             \n",
       "10 N                             \n",
       "11 N                             \n",
       "12 N                             \n",
       "13 N                             \n",
       "14 N                             \n",
       "15 N                             \n",
       "16 N                             \n",
       "17 N                             \n",
       "18 N                             \n",
       "19 N                             \n",
       "20 N                             \n",
       "21 N                             \n",
       "22 N                             \n",
       "23 N                             \n",
       "24 N                             \n",
       "25 N                             \n",
       "26 N                             \n",
       "27 N                             \n",
       "28 N                             \n",
       "29 N                             "
      ]
     },
     "metadata": {},
     "output_type": "display_data"
    }
   ],
   "source": [
    "tTestResult"
   ]
  },
  {
   "cell_type": "markdown",
   "metadata": {},
   "source": [
    "### <font color=#4a4c52>Visualizing count of states where republican vote share may decrease or democrat vote share may increase</font>"
   ]
  },
  {
   "cell_type": "code",
   "execution_count": 41,
   "metadata": {},
   "outputs": [
    {
     "data": {
      "image/png": "[encoded data removed]",
      "text/plain": [
       "Plot with title \"Republican Vote share decrease \n",
       " in won states?\""
      ]
     },
     "metadata": {},
     "output_type": "display_data"
    }
   ],
   "source": [
    "par(mfrow = c(2,2))\n",
    "barplot(table(tTestResult$Democratic_vote_share_increase[tTestResult$winner_2016 == \"DEM\"]), \n",
    "        main = \"Democratic Vote share increase \\n in won states?\",\n",
    "        names.arg = c(\"No\",\"Yes\"),\n",
    "        ylab = \"States\",\n",
    "        col = c(\"yellow\", \"green\"),)\n",
    "barplot(table(tTestResult$Democratic_vote_share_increase[tTestResult$winner_2016 == \"REP\"]),\n",
    "        main = \"Democratic Vote share increase \\n in lost states?\",\n",
    "        names.arg = c(\"No\",\"Yes\"),\n",
    "        ylab = \"States\",\n",
    "        col = c(\"yellow\", \"green\"),)\n",
    "barplot(table(factor(tTestResult$Republican_vote_share_decrease[tTestResult$winner_2016 == \"DEM\"], level = c(\"N\",\"Y\"))),\n",
    "        main = \"Republican Vote share decrease \\n in lost states?\",\n",
    "        names.arg = c(\"No\",\"Yes\"),\n",
    "        ylab = \"States\",\n",
    "        col = c(\"yellow\", \"red\"),)        \n",
    "barplot(table(tTestResult$Republican_vote_share_decrease[tTestResult$winner_2016 == \"REP\"]),\n",
    "        main = \"Republican Vote share decrease \\n in won states?\",\n",
    "        names.arg = c(\"No\",\"Yes\"),\n",
    "        ylab = \"States\",\n",
    "        col = c(\"yellow\", \"red\"),)          "
   ]
  },
  {
   "cell_type": "markdown",
   "metadata": {},
   "source": [
    "## <font color=#4a4c52>Conclusion</font>"
   ]
  },
  {
   "cell_type": "markdown",
   "metadata": {},
   "source": [
    "### <font color=#4a4c52>Republican vote share didnt see a negative impact in last 3 years. \n",
    "### <font color=#4a4c52>Democrats might see a better vote share in the upcoming election. \n",
    "### <font color=#4a4c52>These hypothesis test are inconclusive to draw an insight whether their might be a change of government in 2020."
   ]
  },
  {
   "cell_type": "markdown",
   "metadata": {},
   "source": [
    "### <center>***********</center>"
   ]
  }
 ],
 "metadata": {
  "kernelspec": {
   "display_name": "R",
   "language": "R",
   "name": "ir"
  },
  "language_info": {
   "codemirror_mode": "r",
   "file_extension": ".r",
   "mimetype": "text/x-r-source",
   "name": "R",
   "pygments_lexer": "r",
   "version": "3.6.1"
  }
 },
 "nbformat": 4,
 "nbformat_minor": 2
}
